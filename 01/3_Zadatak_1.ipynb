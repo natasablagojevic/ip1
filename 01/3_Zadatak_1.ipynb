{
  "nbformat": 4,
  "nbformat_minor": 0,
  "metadata": {
    "colab": {
      "provenance": []
    },
    "kernelspec": {
      "name": "python3",
      "display_name": "Python 3"
    },
    "language_info": {
      "name": "python"
    }
  },
  "cells": [
    {
      "cell_type": "code",
      "execution_count": null,
      "metadata": {
        "id": "oUqfOtIf8qP1"
      },
      "outputs": [],
      "source": [
        "import pandas as pd\n",
        "import numpy as np"
      ]
    },
    {
      "cell_type": "markdown",
      "source": [
        "Na skupu bank.csv izvršiti sledece promene:"
      ],
      "metadata": {
        "id": "d5ymqxOT8tAz"
      }
    },
    {
      "cell_type": "code",
      "source": [
        "#Učitati skup 24-bank.csv\n",
        "data = pd.read_csv(\"/content/24-bank.csv\")"
      ],
      "metadata": {
        "id": "MWmXcP6D8vvW"
      },
      "execution_count": null,
      "outputs": []
    },
    {
      "cell_type": "code",
      "source": [
        "# Ispisati prvih 5 instanci\n",
        "data.head()"
      ],
      "metadata": {
        "id": "NxyqFxVQ88A1",
        "colab": {
          "base_uri": "https://localhost:8080/",
          "height": 270
        },
        "outputId": "6577fee4-fa68-44e1-8dae-89d3f0cbffa0"
      },
      "execution_count": null,
      "outputs": [
        {
          "output_type": "execute_result",
          "data": {
            "text/plain": [
              "   STAROST             POSAO BRACNO_STANJE OBRAZOVANJE  \\\n",
              "0       30        nezaposlen       u_braku     osnevne   \n",
              "1       33            usluge       u_braku     srednje   \n",
              "2       35       rukovodstvo         samac      visoko   \n",
              "3       30       rukovodstvo       u_braku      visoko   \n",
              "4       59  manuelni_poslovi       u_braku     srednje   \n",
              "\n",
              "   SREDNJE_GOD_STANJE_EUR STAMBENI_KREDIT LICNI_KREDIT    KONTAKT  \\\n",
              "0                    1787              ne           ne    mobilni   \n",
              "1                    4789              da           da    mobilni   \n",
              "2                    1350              da           ne    mobilni   \n",
              "3                    1476              da           da  nepoznato   \n",
              "4                       0              da           ne  nepoznato   \n",
              "\n",
              "   DUZINA_RAZGOVORA_SEC  BROJ_RAZGOVORA OROCENA_STEDNJA  \n",
              "0                    79               1              ne  \n",
              "1                   220               1              ne  \n",
              "2                   185               1              ne  \n",
              "3                   199               4              ne  \n",
              "4                   226               1              ne  "
            ],
            "text/html": [
              "\n",
              "  <div id=\"df-b53ea39d-2784-4b84-bc72-e182b6131805\">\n",
              "    <div class=\"colab-df-container\">\n",
              "      <div>\n",
              "<style scoped>\n",
              "    .dataframe tbody tr th:only-of-type {\n",
              "        vertical-align: middle;\n",
              "    }\n",
              "\n",
              "    .dataframe tbody tr th {\n",
              "        vertical-align: top;\n",
              "    }\n",
              "\n",
              "    .dataframe thead th {\n",
              "        text-align: right;\n",
              "    }\n",
              "</style>\n",
              "<table border=\"1\" class=\"dataframe\">\n",
              "  <thead>\n",
              "    <tr style=\"text-align: right;\">\n",
              "      <th></th>\n",
              "      <th>STAROST</th>\n",
              "      <th>POSAO</th>\n",
              "      <th>BRACNO_STANJE</th>\n",
              "      <th>OBRAZOVANJE</th>\n",
              "      <th>SREDNJE_GOD_STANJE_EUR</th>\n",
              "      <th>STAMBENI_KREDIT</th>\n",
              "      <th>LICNI_KREDIT</th>\n",
              "      <th>KONTAKT</th>\n",
              "      <th>DUZINA_RAZGOVORA_SEC</th>\n",
              "      <th>BROJ_RAZGOVORA</th>\n",
              "      <th>OROCENA_STEDNJA</th>\n",
              "    </tr>\n",
              "  </thead>\n",
              "  <tbody>\n",
              "    <tr>\n",
              "      <th>0</th>\n",
              "      <td>30</td>\n",
              "      <td>nezaposlen</td>\n",
              "      <td>u_braku</td>\n",
              "      <td>osnevne</td>\n",
              "      <td>1787</td>\n",
              "      <td>ne</td>\n",
              "      <td>ne</td>\n",
              "      <td>mobilni</td>\n",
              "      <td>79</td>\n",
              "      <td>1</td>\n",
              "      <td>ne</td>\n",
              "    </tr>\n",
              "    <tr>\n",
              "      <th>1</th>\n",
              "      <td>33</td>\n",
              "      <td>usluge</td>\n",
              "      <td>u_braku</td>\n",
              "      <td>srednje</td>\n",
              "      <td>4789</td>\n",
              "      <td>da</td>\n",
              "      <td>da</td>\n",
              "      <td>mobilni</td>\n",
              "      <td>220</td>\n",
              "      <td>1</td>\n",
              "      <td>ne</td>\n",
              "    </tr>\n",
              "    <tr>\n",
              "      <th>2</th>\n",
              "      <td>35</td>\n",
              "      <td>rukovodstvo</td>\n",
              "      <td>samac</td>\n",
              "      <td>visoko</td>\n",
              "      <td>1350</td>\n",
              "      <td>da</td>\n",
              "      <td>ne</td>\n",
              "      <td>mobilni</td>\n",
              "      <td>185</td>\n",
              "      <td>1</td>\n",
              "      <td>ne</td>\n",
              "    </tr>\n",
              "    <tr>\n",
              "      <th>3</th>\n",
              "      <td>30</td>\n",
              "      <td>rukovodstvo</td>\n",
              "      <td>u_braku</td>\n",
              "      <td>visoko</td>\n",
              "      <td>1476</td>\n",
              "      <td>da</td>\n",
              "      <td>da</td>\n",
              "      <td>nepoznato</td>\n",
              "      <td>199</td>\n",
              "      <td>4</td>\n",
              "      <td>ne</td>\n",
              "    </tr>\n",
              "    <tr>\n",
              "      <th>4</th>\n",
              "      <td>59</td>\n",
              "      <td>manuelni_poslovi</td>\n",
              "      <td>u_braku</td>\n",
              "      <td>srednje</td>\n",
              "      <td>0</td>\n",
              "      <td>da</td>\n",
              "      <td>ne</td>\n",
              "      <td>nepoznato</td>\n",
              "      <td>226</td>\n",
              "      <td>1</td>\n",
              "      <td>ne</td>\n",
              "    </tr>\n",
              "  </tbody>\n",
              "</table>\n",
              "</div>\n",
              "      <button class=\"colab-df-convert\" onclick=\"convertToInteractive('df-b53ea39d-2784-4b84-bc72-e182b6131805')\"\n",
              "              title=\"Convert this dataframe to an interactive table.\"\n",
              "              style=\"display:none;\">\n",
              "        \n",
              "  <svg xmlns=\"http://www.w3.org/2000/svg\" height=\"24px\"viewBox=\"0 0 24 24\"\n",
              "       width=\"24px\">\n",
              "    <path d=\"M0 0h24v24H0V0z\" fill=\"none\"/>\n",
              "    <path d=\"M18.56 5.44l.94 2.06.94-2.06 2.06-.94-2.06-.94-.94-2.06-.94 2.06-2.06.94zm-11 1L8.5 8.5l.94-2.06 2.06-.94-2.06-.94L8.5 2.5l-.94 2.06-2.06.94zm10 10l.94 2.06.94-2.06 2.06-.94-2.06-.94-.94-2.06-.94 2.06-2.06.94z\"/><path d=\"M17.41 7.96l-1.37-1.37c-.4-.4-.92-.59-1.43-.59-.52 0-1.04.2-1.43.59L10.3 9.45l-7.72 7.72c-.78.78-.78 2.05 0 2.83L4 21.41c.39.39.9.59 1.41.59.51 0 1.02-.2 1.41-.59l7.78-7.78 2.81-2.81c.8-.78.8-2.07 0-2.86zM5.41 20L4 18.59l7.72-7.72 1.47 1.35L5.41 20z\"/>\n",
              "  </svg>\n",
              "      </button>\n",
              "      \n",
              "  <style>\n",
              "    .colab-df-container {\n",
              "      display:flex;\n",
              "      flex-wrap:wrap;\n",
              "      gap: 12px;\n",
              "    }\n",
              "\n",
              "    .colab-df-convert {\n",
              "      background-color: #E8F0FE;\n",
              "      border: none;\n",
              "      border-radius: 50%;\n",
              "      cursor: pointer;\n",
              "      display: none;\n",
              "      fill: #1967D2;\n",
              "      height: 32px;\n",
              "      padding: 0 0 0 0;\n",
              "      width: 32px;\n",
              "    }\n",
              "\n",
              "    .colab-df-convert:hover {\n",
              "      background-color: #E2EBFA;\n",
              "      box-shadow: 0px 1px 2px rgba(60, 64, 67, 0.3), 0px 1px 3px 1px rgba(60, 64, 67, 0.15);\n",
              "      fill: #174EA6;\n",
              "    }\n",
              "\n",
              "    [theme=dark] .colab-df-convert {\n",
              "      background-color: #3B4455;\n",
              "      fill: #D2E3FC;\n",
              "    }\n",
              "\n",
              "    [theme=dark] .colab-df-convert:hover {\n",
              "      background-color: #434B5C;\n",
              "      box-shadow: 0px 1px 3px 1px rgba(0, 0, 0, 0.15);\n",
              "      filter: drop-shadow(0px 1px 2px rgba(0, 0, 0, 0.3));\n",
              "      fill: #FFFFFF;\n",
              "    }\n",
              "  </style>\n",
              "\n",
              "      <script>\n",
              "        const buttonEl =\n",
              "          document.querySelector('#df-b53ea39d-2784-4b84-bc72-e182b6131805 button.colab-df-convert');\n",
              "        buttonEl.style.display =\n",
              "          google.colab.kernel.accessAllowed ? 'block' : 'none';\n",
              "\n",
              "        async function convertToInteractive(key) {\n",
              "          const element = document.querySelector('#df-b53ea39d-2784-4b84-bc72-e182b6131805');\n",
              "          const dataTable =\n",
              "            await google.colab.kernel.invokeFunction('convertToInteractive',\n",
              "                                                     [key], {});\n",
              "          if (!dataTable) return;\n",
              "\n",
              "          const docLinkHtml = 'Like what you see? Visit the ' +\n",
              "            '<a target=\"_blank\" href=https://colab.research.google.com/notebooks/data_table.ipynb>data table notebook</a>'\n",
              "            + ' to learn more about interactive tables.';\n",
              "          element.innerHTML = '';\n",
              "          dataTable['output_type'] = 'display_data';\n",
              "          await google.colab.output.renderOutput(dataTable, element);\n",
              "          const docLink = document.createElement('div');\n",
              "          docLink.innerHTML = docLinkHtml;\n",
              "          element.appendChild(docLink);\n",
              "        }\n",
              "      </script>\n",
              "    </div>\n",
              "  </div>\n",
              "  "
            ]
          },
          "metadata": {},
          "execution_count": 5
        }
      ]
    },
    {
      "cell_type": "code",
      "source": [
        "data.shape"
      ],
      "metadata": {
        "colab": {
          "base_uri": "https://localhost:8080/"
        },
        "id": "Uw8j541-GqBs",
        "outputId": "60a145b6-6c70-4389-bf65-e79f16f18085"
      },
      "execution_count": null,
      "outputs": [
        {
          "output_type": "execute_result",
          "data": {
            "text/plain": [
              "(4521, 11)"
            ]
          },
          "metadata": {},
          "execution_count": 7
        }
      ]
    },
    {
      "cell_type": "code",
      "source": [
        "data.describe()"
      ],
      "metadata": {
        "id": "irFwFZTK885_",
        "colab": {
          "base_uri": "https://localhost:8080/",
          "height": 300
        },
        "outputId": "b929be5b-444c-48b3-cb53-46b8883b9835"
      },
      "execution_count": null,
      "outputs": [
        {
          "output_type": "execute_result",
          "data": {
            "text/plain": [
              "           STAROST  SREDNJE_GOD_STANJE_EUR  DUZINA_RAZGOVORA_SEC  \\\n",
              "count  4521.000000             4521.000000           4521.000000   \n",
              "mean     41.170095             1422.657819            263.961292   \n",
              "std      10.576211             3009.638142            259.856633   \n",
              "min      19.000000            -3313.000000              4.000000   \n",
              "25%      33.000000               69.000000            104.000000   \n",
              "50%      39.000000              444.000000            185.000000   \n",
              "75%      49.000000             1480.000000            329.000000   \n",
              "max      87.000000            71188.000000           3025.000000   \n",
              "\n",
              "       BROJ_RAZGOVORA  \n",
              "count     4521.000000  \n",
              "mean         2.793630  \n",
              "std          3.109807  \n",
              "min          1.000000  \n",
              "25%          1.000000  \n",
              "50%          2.000000  \n",
              "75%          3.000000  \n",
              "max         50.000000  "
            ],
            "text/html": [
              "\n",
              "  <div id=\"df-d9f0a951-372e-4c3d-bd0a-4fe4258959f4\">\n",
              "    <div class=\"colab-df-container\">\n",
              "      <div>\n",
              "<style scoped>\n",
              "    .dataframe tbody tr th:only-of-type {\n",
              "        vertical-align: middle;\n",
              "    }\n",
              "\n",
              "    .dataframe tbody tr th {\n",
              "        vertical-align: top;\n",
              "    }\n",
              "\n",
              "    .dataframe thead th {\n",
              "        text-align: right;\n",
              "    }\n",
              "</style>\n",
              "<table border=\"1\" class=\"dataframe\">\n",
              "  <thead>\n",
              "    <tr style=\"text-align: right;\">\n",
              "      <th></th>\n",
              "      <th>STAROST</th>\n",
              "      <th>SREDNJE_GOD_STANJE_EUR</th>\n",
              "      <th>DUZINA_RAZGOVORA_SEC</th>\n",
              "      <th>BROJ_RAZGOVORA</th>\n",
              "    </tr>\n",
              "  </thead>\n",
              "  <tbody>\n",
              "    <tr>\n",
              "      <th>count</th>\n",
              "      <td>4521.000000</td>\n",
              "      <td>4521.000000</td>\n",
              "      <td>4521.000000</td>\n",
              "      <td>4521.000000</td>\n",
              "    </tr>\n",
              "    <tr>\n",
              "      <th>mean</th>\n",
              "      <td>41.170095</td>\n",
              "      <td>1422.657819</td>\n",
              "      <td>263.961292</td>\n",
              "      <td>2.793630</td>\n",
              "    </tr>\n",
              "    <tr>\n",
              "      <th>std</th>\n",
              "      <td>10.576211</td>\n",
              "      <td>3009.638142</td>\n",
              "      <td>259.856633</td>\n",
              "      <td>3.109807</td>\n",
              "    </tr>\n",
              "    <tr>\n",
              "      <th>min</th>\n",
              "      <td>19.000000</td>\n",
              "      <td>-3313.000000</td>\n",
              "      <td>4.000000</td>\n",
              "      <td>1.000000</td>\n",
              "    </tr>\n",
              "    <tr>\n",
              "      <th>25%</th>\n",
              "      <td>33.000000</td>\n",
              "      <td>69.000000</td>\n",
              "      <td>104.000000</td>\n",
              "      <td>1.000000</td>\n",
              "    </tr>\n",
              "    <tr>\n",
              "      <th>50%</th>\n",
              "      <td>39.000000</td>\n",
              "      <td>444.000000</td>\n",
              "      <td>185.000000</td>\n",
              "      <td>2.000000</td>\n",
              "    </tr>\n",
              "    <tr>\n",
              "      <th>75%</th>\n",
              "      <td>49.000000</td>\n",
              "      <td>1480.000000</td>\n",
              "      <td>329.000000</td>\n",
              "      <td>3.000000</td>\n",
              "    </tr>\n",
              "    <tr>\n",
              "      <th>max</th>\n",
              "      <td>87.000000</td>\n",
              "      <td>71188.000000</td>\n",
              "      <td>3025.000000</td>\n",
              "      <td>50.000000</td>\n",
              "    </tr>\n",
              "  </tbody>\n",
              "</table>\n",
              "</div>\n",
              "      <button class=\"colab-df-convert\" onclick=\"convertToInteractive('df-d9f0a951-372e-4c3d-bd0a-4fe4258959f4')\"\n",
              "              title=\"Convert this dataframe to an interactive table.\"\n",
              "              style=\"display:none;\">\n",
              "        \n",
              "  <svg xmlns=\"http://www.w3.org/2000/svg\" height=\"24px\"viewBox=\"0 0 24 24\"\n",
              "       width=\"24px\">\n",
              "    <path d=\"M0 0h24v24H0V0z\" fill=\"none\"/>\n",
              "    <path d=\"M18.56 5.44l.94 2.06.94-2.06 2.06-.94-2.06-.94-.94-2.06-.94 2.06-2.06.94zm-11 1L8.5 8.5l.94-2.06 2.06-.94-2.06-.94L8.5 2.5l-.94 2.06-2.06.94zm10 10l.94 2.06.94-2.06 2.06-.94-2.06-.94-.94-2.06-.94 2.06-2.06.94z\"/><path d=\"M17.41 7.96l-1.37-1.37c-.4-.4-.92-.59-1.43-.59-.52 0-1.04.2-1.43.59L10.3 9.45l-7.72 7.72c-.78.78-.78 2.05 0 2.83L4 21.41c.39.39.9.59 1.41.59.51 0 1.02-.2 1.41-.59l7.78-7.78 2.81-2.81c.8-.78.8-2.07 0-2.86zM5.41 20L4 18.59l7.72-7.72 1.47 1.35L5.41 20z\"/>\n",
              "  </svg>\n",
              "      </button>\n",
              "      \n",
              "  <style>\n",
              "    .colab-df-container {\n",
              "      display:flex;\n",
              "      flex-wrap:wrap;\n",
              "      gap: 12px;\n",
              "    }\n",
              "\n",
              "    .colab-df-convert {\n",
              "      background-color: #E8F0FE;\n",
              "      border: none;\n",
              "      border-radius: 50%;\n",
              "      cursor: pointer;\n",
              "      display: none;\n",
              "      fill: #1967D2;\n",
              "      height: 32px;\n",
              "      padding: 0 0 0 0;\n",
              "      width: 32px;\n",
              "    }\n",
              "\n",
              "    .colab-df-convert:hover {\n",
              "      background-color: #E2EBFA;\n",
              "      box-shadow: 0px 1px 2px rgba(60, 64, 67, 0.3), 0px 1px 3px 1px rgba(60, 64, 67, 0.15);\n",
              "      fill: #174EA6;\n",
              "    }\n",
              "\n",
              "    [theme=dark] .colab-df-convert {\n",
              "      background-color: #3B4455;\n",
              "      fill: #D2E3FC;\n",
              "    }\n",
              "\n",
              "    [theme=dark] .colab-df-convert:hover {\n",
              "      background-color: #434B5C;\n",
              "      box-shadow: 0px 1px 3px 1px rgba(0, 0, 0, 0.15);\n",
              "      filter: drop-shadow(0px 1px 2px rgba(0, 0, 0, 0.3));\n",
              "      fill: #FFFFFF;\n",
              "    }\n",
              "  </style>\n",
              "\n",
              "      <script>\n",
              "        const buttonEl =\n",
              "          document.querySelector('#df-d9f0a951-372e-4c3d-bd0a-4fe4258959f4 button.colab-df-convert');\n",
              "        buttonEl.style.display =\n",
              "          google.colab.kernel.accessAllowed ? 'block' : 'none';\n",
              "\n",
              "        async function convertToInteractive(key) {\n",
              "          const element = document.querySelector('#df-d9f0a951-372e-4c3d-bd0a-4fe4258959f4');\n",
              "          const dataTable =\n",
              "            await google.colab.kernel.invokeFunction('convertToInteractive',\n",
              "                                                     [key], {});\n",
              "          if (!dataTable) return;\n",
              "\n",
              "          const docLinkHtml = 'Like what you see? Visit the ' +\n",
              "            '<a target=\"_blank\" href=https://colab.research.google.com/notebooks/data_table.ipynb>data table notebook</a>'\n",
              "            + ' to learn more about interactive tables.';\n",
              "          element.innerHTML = '';\n",
              "          dataTable['output_type'] = 'display_data';\n",
              "          await google.colab.output.renderOutput(dataTable, element);\n",
              "          const docLink = document.createElement('div');\n",
              "          docLink.innerHTML = docLinkHtml;\n",
              "          element.appendChild(docLink);\n",
              "        }\n",
              "      </script>\n",
              "    </div>\n",
              "  </div>\n",
              "  "
            ]
          },
          "metadata": {},
          "execution_count": 6
        }
      ]
    },
    {
      "cell_type": "code",
      "source": [
        "# Eliminisati instance koje imaju negativnu vrednost u atributu srednje_god_stanje_eur.\n",
        "data[data['SREDNJE_GOD_STANJE_EUR'] < 0] = np.nan\n",
        "data = data.dropna()"
      ],
      "metadata": {
        "id": "hZTXTEV-9A-O"
      },
      "execution_count": null,
      "outputs": []
    },
    {
      "cell_type": "code",
      "source": [
        "data.describe()"
      ],
      "metadata": {
        "id": "KdINoJT89GSp",
        "colab": {
          "base_uri": "https://localhost:8080/",
          "height": 300
        },
        "outputId": "dbe9a968-ee62-4743-81d2-d44e356e829e"
      },
      "execution_count": null,
      "outputs": [
        {
          "output_type": "execute_result",
          "data": {
            "text/plain": [
              "           STAROST  SREDNJE_GOD_STANJE_EUR  DUZINA_RAZGOVORA_SEC  \\\n",
              "count  4155.000000             4155.000000           4155.000000   \n",
              "mean     41.297232             1577.000963            263.861372   \n",
              "std      10.694177             3090.416228            260.473877   \n",
              "min      19.000000                0.000000              4.000000   \n",
              "25%      33.000000              141.500000            104.000000   \n",
              "50%      39.000000              542.000000            186.000000   \n",
              "75%      49.000000             1637.000000            328.000000   \n",
              "max      87.000000            71188.000000           3025.000000   \n",
              "\n",
              "       BROJ_RAZGOVORA  \n",
              "count     4155.000000  \n",
              "mean         2.802888  \n",
              "std          3.114009  \n",
              "min          1.000000  \n",
              "25%          1.000000  \n",
              "50%          2.000000  \n",
              "75%          3.000000  \n",
              "max         50.000000  "
            ],
            "text/html": [
              "\n",
              "  <div id=\"df-ef70c71a-15e2-45fd-84f9-75ef04ed22df\">\n",
              "    <div class=\"colab-df-container\">\n",
              "      <div>\n",
              "<style scoped>\n",
              "    .dataframe tbody tr th:only-of-type {\n",
              "        vertical-align: middle;\n",
              "    }\n",
              "\n",
              "    .dataframe tbody tr th {\n",
              "        vertical-align: top;\n",
              "    }\n",
              "\n",
              "    .dataframe thead th {\n",
              "        text-align: right;\n",
              "    }\n",
              "</style>\n",
              "<table border=\"1\" class=\"dataframe\">\n",
              "  <thead>\n",
              "    <tr style=\"text-align: right;\">\n",
              "      <th></th>\n",
              "      <th>STAROST</th>\n",
              "      <th>SREDNJE_GOD_STANJE_EUR</th>\n",
              "      <th>DUZINA_RAZGOVORA_SEC</th>\n",
              "      <th>BROJ_RAZGOVORA</th>\n",
              "    </tr>\n",
              "  </thead>\n",
              "  <tbody>\n",
              "    <tr>\n",
              "      <th>count</th>\n",
              "      <td>4155.000000</td>\n",
              "      <td>4155.000000</td>\n",
              "      <td>4155.000000</td>\n",
              "      <td>4155.000000</td>\n",
              "    </tr>\n",
              "    <tr>\n",
              "      <th>mean</th>\n",
              "      <td>41.297232</td>\n",
              "      <td>1577.000963</td>\n",
              "      <td>263.861372</td>\n",
              "      <td>2.802888</td>\n",
              "    </tr>\n",
              "    <tr>\n",
              "      <th>std</th>\n",
              "      <td>10.694177</td>\n",
              "      <td>3090.416228</td>\n",
              "      <td>260.473877</td>\n",
              "      <td>3.114009</td>\n",
              "    </tr>\n",
              "    <tr>\n",
              "      <th>min</th>\n",
              "      <td>19.000000</td>\n",
              "      <td>0.000000</td>\n",
              "      <td>4.000000</td>\n",
              "      <td>1.000000</td>\n",
              "    </tr>\n",
              "    <tr>\n",
              "      <th>25%</th>\n",
              "      <td>33.000000</td>\n",
              "      <td>141.500000</td>\n",
              "      <td>104.000000</td>\n",
              "      <td>1.000000</td>\n",
              "    </tr>\n",
              "    <tr>\n",
              "      <th>50%</th>\n",
              "      <td>39.000000</td>\n",
              "      <td>542.000000</td>\n",
              "      <td>186.000000</td>\n",
              "      <td>2.000000</td>\n",
              "    </tr>\n",
              "    <tr>\n",
              "      <th>75%</th>\n",
              "      <td>49.000000</td>\n",
              "      <td>1637.000000</td>\n",
              "      <td>328.000000</td>\n",
              "      <td>3.000000</td>\n",
              "    </tr>\n",
              "    <tr>\n",
              "      <th>max</th>\n",
              "      <td>87.000000</td>\n",
              "      <td>71188.000000</td>\n",
              "      <td>3025.000000</td>\n",
              "      <td>50.000000</td>\n",
              "    </tr>\n",
              "  </tbody>\n",
              "</table>\n",
              "</div>\n",
              "      <button class=\"colab-df-convert\" onclick=\"convertToInteractive('df-ef70c71a-15e2-45fd-84f9-75ef04ed22df')\"\n",
              "              title=\"Convert this dataframe to an interactive table.\"\n",
              "              style=\"display:none;\">\n",
              "        \n",
              "  <svg xmlns=\"http://www.w3.org/2000/svg\" height=\"24px\"viewBox=\"0 0 24 24\"\n",
              "       width=\"24px\">\n",
              "    <path d=\"M0 0h24v24H0V0z\" fill=\"none\"/>\n",
              "    <path d=\"M18.56 5.44l.94 2.06.94-2.06 2.06-.94-2.06-.94-.94-2.06-.94 2.06-2.06.94zm-11 1L8.5 8.5l.94-2.06 2.06-.94-2.06-.94L8.5 2.5l-.94 2.06-2.06.94zm10 10l.94 2.06.94-2.06 2.06-.94-2.06-.94-.94-2.06-.94 2.06-2.06.94z\"/><path d=\"M17.41 7.96l-1.37-1.37c-.4-.4-.92-.59-1.43-.59-.52 0-1.04.2-1.43.59L10.3 9.45l-7.72 7.72c-.78.78-.78 2.05 0 2.83L4 21.41c.39.39.9.59 1.41.59.51 0 1.02-.2 1.41-.59l7.78-7.78 2.81-2.81c.8-.78.8-2.07 0-2.86zM5.41 20L4 18.59l7.72-7.72 1.47 1.35L5.41 20z\"/>\n",
              "  </svg>\n",
              "      </button>\n",
              "      \n",
              "  <style>\n",
              "    .colab-df-container {\n",
              "      display:flex;\n",
              "      flex-wrap:wrap;\n",
              "      gap: 12px;\n",
              "    }\n",
              "\n",
              "    .colab-df-convert {\n",
              "      background-color: #E8F0FE;\n",
              "      border: none;\n",
              "      border-radius: 50%;\n",
              "      cursor: pointer;\n",
              "      display: none;\n",
              "      fill: #1967D2;\n",
              "      height: 32px;\n",
              "      padding: 0 0 0 0;\n",
              "      width: 32px;\n",
              "    }\n",
              "\n",
              "    .colab-df-convert:hover {\n",
              "      background-color: #E2EBFA;\n",
              "      box-shadow: 0px 1px 2px rgba(60, 64, 67, 0.3), 0px 1px 3px 1px rgba(60, 64, 67, 0.15);\n",
              "      fill: #174EA6;\n",
              "    }\n",
              "\n",
              "    [theme=dark] .colab-df-convert {\n",
              "      background-color: #3B4455;\n",
              "      fill: #D2E3FC;\n",
              "    }\n",
              "\n",
              "    [theme=dark] .colab-df-convert:hover {\n",
              "      background-color: #434B5C;\n",
              "      box-shadow: 0px 1px 3px 1px rgba(0, 0, 0, 0.15);\n",
              "      filter: drop-shadow(0px 1px 2px rgba(0, 0, 0, 0.3));\n",
              "      fill: #FFFFFF;\n",
              "    }\n",
              "  </style>\n",
              "\n",
              "      <script>\n",
              "        const buttonEl =\n",
              "          document.querySelector('#df-ef70c71a-15e2-45fd-84f9-75ef04ed22df button.colab-df-convert');\n",
              "        buttonEl.style.display =\n",
              "          google.colab.kernel.accessAllowed ? 'block' : 'none';\n",
              "\n",
              "        async function convertToInteractive(key) {\n",
              "          const element = document.querySelector('#df-ef70c71a-15e2-45fd-84f9-75ef04ed22df');\n",
              "          const dataTable =\n",
              "            await google.colab.kernel.invokeFunction('convertToInteractive',\n",
              "                                                     [key], {});\n",
              "          if (!dataTable) return;\n",
              "\n",
              "          const docLinkHtml = 'Like what you see? Visit the ' +\n",
              "            '<a target=\"_blank\" href=https://colab.research.google.com/notebooks/data_table.ipynb>data table notebook</a>'\n",
              "            + ' to learn more about interactive tables.';\n",
              "          element.innerHTML = '';\n",
              "          dataTable['output_type'] = 'display_data';\n",
              "          await google.colab.output.renderOutput(dataTable, element);\n",
              "          const docLink = document.createElement('div');\n",
              "          docLink.innerHTML = docLinkHtml;\n",
              "          element.appendChild(docLink);\n",
              "        }\n",
              "      </script>\n",
              "    </div>\n",
              "  </div>\n",
              "  "
            ]
          },
          "metadata": {},
          "execution_count": 23
        }
      ]
    },
    {
      "cell_type": "code",
      "source": [
        "data.info()"
      ],
      "metadata": {
        "id": "m6gkEiAyU5k5",
        "colab": {
          "base_uri": "https://localhost:8080/"
        },
        "outputId": "de8223f1-8c4c-4f44-8ce3-d9d66076dc3a"
      },
      "execution_count": null,
      "outputs": [
        {
          "output_type": "stream",
          "name": "stdout",
          "text": [
            "<class 'pandas.core.frame.DataFrame'>\n",
            "Int64Index: 4155 entries, 0 to 4520\n",
            "Data columns (total 11 columns):\n",
            " #   Column                  Non-Null Count  Dtype  \n",
            "---  ------                  --------------  -----  \n",
            " 0   STAROST                 4155 non-null   float64\n",
            " 1   POSAO                   4155 non-null   object \n",
            " 2   BRACNO_STANJE           4155 non-null   object \n",
            " 3   OBRAZOVANJE             4155 non-null   object \n",
            " 4   SREDNJE_GOD_STANJE_EUR  4155 non-null   float64\n",
            " 5   STAMBENI_KREDIT         4155 non-null   object \n",
            " 6   LICNI_KREDIT            4155 non-null   object \n",
            " 7   KONTAKT                 4155 non-null   object \n",
            " 8   DUZINA_RAZGOVORA_SEC    4155 non-null   float64\n",
            " 9   BROJ_RAZGOVORA          4155 non-null   float64\n",
            " 10  OROCENA_STEDNJA         4155 non-null   object \n",
            "dtypes: float64(4), object(7)\n",
            "memory usage: 389.5+ KB\n"
          ]
        }
      ]
    },
    {
      "cell_type": "code",
      "source": [
        "# Vrednosti atributa starost podeliti u 5 kategorija jednake širine. HINT: Koristiti pd.cut(....)"
      ],
      "metadata": {
        "id": "MWEMKOEN98-i"
      },
      "execution_count": null,
      "outputs": []
    },
    {
      "cell_type": "code",
      "source": [
        "data['STAROST'].hist(bins=5)\n",
        "data['STAROST'] = pd.cut(data.STAROST, bins=5, labels=[1, 2, 3, 4, 5])"
      ],
      "metadata": {
        "colab": {
          "base_uri": "https://localhost:8080/",
          "height": 267
        },
        "id": "LEwWTLX9YrHf",
        "outputId": "bbe3324e-7b69-470f-f66d-e3a39eb4a486"
      },
      "execution_count": null,
      "outputs": [
        {
          "output_type": "display_data",
          "data": {
            "text/plain": [
              "<Figure size 432x288 with 1 Axes>"
            ],
            "image/png": "[encoded data removed]"
          },
          "metadata": {
            "needs_background": "light"
          }
        }
      ]
    },
    {
      "cell_type": "code",
      "source": [
        "# Promeniti kategorije atributa bracno_stanje u u_braku i nije_u_braku.\n",
        "values = data['BRACNO_STANJE'].unique()\n",
        "data.BRACNO_STANJE.replace(values[1:], 'nije_u_braku', inplace=True)\n",
        "data.BRACNO_STANJE"
      ],
      "metadata": {
        "id": "4A_WSDBC-WgS",
        "colab": {
          "base_uri": "https://localhost:8080/"
        },
        "outputId": "86d069b8-673d-4f1d-8280-ec6f05c5b592"
      },
      "execution_count": null,
      "outputs": [
        {
          "output_type": "execute_result",
          "data": {
            "text/plain": [
              "0            u_braku\n",
              "1            u_braku\n",
              "2       nije_u_braku\n",
              "3            u_braku\n",
              "4            u_braku\n",
              "            ...     \n",
              "4514         u_braku\n",
              "4515    nije_u_braku\n",
              "4518         u_braku\n",
              "4519         u_braku\n",
              "4520    nije_u_braku\n",
              "Name: BRACNO_STANJE, Length: 4155, dtype: object"
            ]
          },
          "metadata": {},
          "execution_count": 33
        }
      ]
    },
    {
      "cell_type": "code",
      "source": [
        "# Standardizovati numeričke atribute\n",
        "from sklearn.preprocessing import StandardScaler \n",
        "scaler = StandardScaler()\n",
        "x = scaler.fit_transform(data[data.columns[data.dtypes == 'float64']])\n",
        "x\n",
        "# data.info()\n",
        "# data[data.columns[data.dtypes == 'float64']]"
      ],
      "metadata": {
        "id": "jr71wABB-bG_",
        "colab": {
          "base_uri": "https://localhost:8080/"
        },
        "outputId": "40a4bdae-9096-4939-8364-a5ceb4616b97"
      },
      "execution_count": null,
      "outputs": [
        {
          "output_type": "execute_result",
          "data": {
            "text/plain": [
              "array([[ 0.06795988, -0.70979717, -0.57903006],\n",
              "       [ 1.03946698, -0.16841094, -0.57903006],\n",
              "       [-0.07346204, -0.3027976 , -0.57903006],\n",
              "       ...,\n",
              "       [-0.41488109, -0.43334463,  2.63265051],\n",
              "       [-0.14239309, -0.51781624,  0.38447411],\n",
              "       [-0.14271671,  0.31154139, -0.25786201]])"
            ]
          },
          "metadata": {},
          "execution_count": 41
        }
      ]
    },
    {
      "cell_type": "code",
      "source": [
        "data.describe()"
      ],
      "metadata": {
        "id": "Q4p3-BG1V3uV"
      },
      "execution_count": null,
      "outputs": []
    },
    {
      "cell_type": "code",
      "source": [],
      "metadata": {
        "id": "5eXw7SCtVjts"
      },
      "execution_count": null,
      "outputs": []
    }
  ]
}