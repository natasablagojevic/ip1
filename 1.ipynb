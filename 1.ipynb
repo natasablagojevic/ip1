{
  "nbformat": 4,
  "nbformat_minor": 0,
  "metadata": {
    "colab": {
      "provenance": [],
      "authorship_tag": "ABX9TyPvK95t2Z/p9Yy0uVOfFCZa",
      "include_colab_link": true
    },
    "kernelspec": {
      "name": "python3",
      "display_name": "Python 3"
    },
    "language_info": {
      "name": "python"
    }
  },
  "cells": [
    {
      "cell_type": "markdown",
      "metadata": {
        "id": "view-in-github",
        "colab_type": "text"
      },
      "source": [
        "<a href=\"https://colab.research.google.com/github/natasablagojevic/ip1/blob/main/1.ipynb\" target=\"_parent\"><img src=\"https://colab.research.google.com/assets/colab-badge.svg\" alt=\"Open In Colab\"/></a>"
      ]
    },
    {
      "cell_type": "code",
      "execution_count": 11,
      "metadata": {
        "colab": {
          "base_uri": "https://localhost:8080/"
        },
        "id": "dZy8vQQP4X_m",
        "outputId": "9d8b13d7-b9df-4b43-d104-443010d2900b"
      },
      "outputs": [
        {
          "output_type": "stream",
          "name": "stdout",
          "text": [
            "Ja sam Marko Markovic\n",
            "Ja sam Jakno Janketic i Studiram Matematicki fakultet\n"
          ]
        }
      ],
      "source": [
        "class Covek:\n",
        "  def __init__(self, ime, prezime, godine):\n",
        "    self.ime = ime\n",
        "    self.prezime = prezime\n",
        "    self.godine = godine\n",
        "\n",
        "  def __str__(self):\n",
        "    return f'Ja sam {self.ime} {self.prezime}'\n",
        "\n",
        "class Student(Covek):\n",
        "  def __init__(self, ime, prezime, godine, fakultet):\n",
        "    super().__init__(ime, prezime, godine)\n",
        "    self.fakultet = fakultet\n",
        "  \n",
        "  def __str__(self):\n",
        "    return super().__str__() + ' i ' + f'Studiram {self.fakultet}'\n",
        "\n",
        "if __name__ == '__main__':\n",
        "  c = Covek('Marko', 'Markovic', 23)\n",
        "\n",
        "  print(c)\n",
        "  \n",
        "  s = Student('Jakno', 'Janketic', 20, 'Matematicki fakultet')\n",
        "\n",
        "  print(s)"
      ]
    },
    {
      "cell_type": "code",
      "source": [
        "import pandas as pd\n",
        "import os\n",
        "import numpy as np\n"
      ],
      "metadata": {
        "id": "XU4CAd-c-fwu"
      },
      "execution_count": 12,
      "outputs": []
    },
    {
      "cell_type": "code",
      "source": [
        "data = pd.read_csv('/content/sample_data/california_housing_train.csv')\n",
        "\n",
        "# print(data)\n",
        "# print(data.head()) # prvih 5\n",
        "# print(data.tail()) # poslednjih 5\n",
        "# print(data[\"longitude\"].head())\n",
        "\n",
        "# print(data.mean())\n",
        "# print(data.info())\n",
        "# print(data.describe())\n",
        "# print(data.columns)\n",
        "# print(len(data))\n",
        "# print(data.iloc[1:5, 1:10])\n",
        "# print(data.latitude.dtype)\n",
        "# print(data.dtypes)\n",
        "# print(data.cumsum())\n",
        "# print(data.sample())"
      ],
      "metadata": {
        "colab": {
          "base_uri": "https://localhost:8080/"
        },
        "id": "v7chyBJz-57F",
        "outputId": "fa6504d1-1648-4e50-c430-bd934135f4c6"
      },
      "execution_count": 34,
      "outputs": [
        {
          "output_type": "stream",
          "name": "stdout",
          "text": [
            "      longitude  latitude  housing_median_age  total_rooms  total_bedrooms  \\\n",
            "4303    -118.01     33.91                32.0       2722.0           571.0   \n",
            "\n",
            "      population  households  median_income  median_house_value  \n",
            "4303      2541.0       462.0         4.2305            221400.0  \n"
          ]
        }
      ]
    }
  ]
}