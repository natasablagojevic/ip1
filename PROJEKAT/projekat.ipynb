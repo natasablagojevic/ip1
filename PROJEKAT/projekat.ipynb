{
 "cells": [
  {
   "cell_type": "code",
   "execution_count": 37,
   "metadata": {},
   "outputs": [],
   "source": [
    "import pandas as pd\n",
    "import numpy as np\n",
    "import matplotlib.pyplot as plt\n",
    "import seaborn as sns\n",
    "import os\n",
    "import sys"
   ]
  },
  {
   "attachments": {},
   "cell_type": "markdown",
   "metadata": {},
   "source": [
    "# Ucitavanje podataka"
   ]
  },
  {
   "attachments": {},
   "cell_type": "markdown",
   "metadata": {},
   "source": [
    "Ucitavanje skupa podataka za koji se radi projekat. <br>\n",
    "Skup podataka je preuzet sa sajta: *link*"
   ]
  },
  {
   "cell_type": "code",
   "execution_count": 2,
   "metadata": {},
   "outputs": [],
   "source": [
    "data = pd.read_csv('./Teksture_IP_projekat.csv')"
   ]
  },
  {
   "attachments": {},
   "cell_type": "markdown",
   "metadata": {},
   "source": [
    "# Osnovne statistike"
   ]
  },
  {
   "attachments": {},
   "cell_type": "markdown",
   "metadata": {},
   "source": [
    "Pregled od koliko podataka se skup sastoji:"
   ]
  },
  {
   "cell_type": "code",
   "execution_count": 3,
   "metadata": {},
   "outputs": [
    {
     "data": {
      "text/plain": [
       "(5500, 41)"
      ]
     },
     "execution_count": 3,
     "metadata": {},
     "output_type": "execute_result"
    }
   ],
   "source": [
    "data.shape"
   ]
  },
  {
   "attachments": {},
   "cell_type": "markdown",
   "metadata": {},
   "source": [
    "Nas skup se sastoji od **5500** redova i **41** atributa"
   ]
  },
  {
   "attachments": {},
   "cell_type": "markdown",
   "metadata": {},
   "source": [
    "Pregled prvih redova skupa"
   ]
  },
  {
   "cell_type": "code",
   "execution_count": 4,
   "metadata": {},
   "outputs": [
    {
     "data": {
      "text/html": [
       "<div>\n",
       "<style scoped>\n",
       "    .dataframe tbody tr th:only-of-type {\n",
       "        vertical-align: middle;\n",
       "    }\n",
       "\n",
       "    .dataframe tbody tr th {\n",
       "        vertical-align: top;\n",
       "    }\n",
       "\n",
       "    .dataframe thead th {\n",
       "        text-align: right;\n",
       "    }\n",
       "</style>\n",
       "<table border=\"1\" class=\"dataframe\">\n",
       "  <thead>\n",
       "    <tr style=\"text-align: right;\">\n",
       "      <th></th>\n",
       "      <th>V1</th>\n",
       "      <th>V2</th>\n",
       "      <th>V3</th>\n",
       "      <th>V4</th>\n",
       "      <th>V5</th>\n",
       "      <th>V6</th>\n",
       "      <th>V7</th>\n",
       "      <th>V8</th>\n",
       "      <th>V9</th>\n",
       "      <th>V10</th>\n",
       "      <th>...</th>\n",
       "      <th>V32</th>\n",
       "      <th>V33</th>\n",
       "      <th>V34</th>\n",
       "      <th>V35</th>\n",
       "      <th>V36</th>\n",
       "      <th>V37</th>\n",
       "      <th>V38</th>\n",
       "      <th>V39</th>\n",
       "      <th>V40</th>\n",
       "      <th>Class</th>\n",
       "    </tr>\n",
       "  </thead>\n",
       "  <tbody>\n",
       "    <tr>\n",
       "      <th>0</th>\n",
       "      <td>-1.223</td>\n",
       "      <td>-0.798</td>\n",
       "      <td>-0.867</td>\n",
       "      <td>-0.639</td>\n",
       "      <td>-0.545</td>\n",
       "      <td>-0.412</td>\n",
       "      <td>-0.795</td>\n",
       "      <td>-0.629</td>\n",
       "      <td>-0.547</td>\n",
       "      <td>-0.868</td>\n",
       "      <td>...</td>\n",
       "      <td>-0.766</td>\n",
       "      <td>-0.555</td>\n",
       "      <td>-0.714</td>\n",
       "      <td>-0.545</td>\n",
       "      <td>-0.587</td>\n",
       "      <td>-0.871</td>\n",
       "      <td>-0.620</td>\n",
       "      <td>-0.568</td>\n",
       "      <td>-0.607</td>\n",
       "      <td>5</td>\n",
       "    </tr>\n",
       "    <tr>\n",
       "      <th>1</th>\n",
       "      <td>-1.410</td>\n",
       "      <td>-1.029</td>\n",
       "      <td>-1.013</td>\n",
       "      <td>-0.895</td>\n",
       "      <td>-0.762</td>\n",
       "      <td>-0.676</td>\n",
       "      <td>-1.043</td>\n",
       "      <td>-0.851</td>\n",
       "      <td>-0.775</td>\n",
       "      <td>-1.037</td>\n",
       "      <td>...</td>\n",
       "      <td>-0.919</td>\n",
       "      <td>-0.770</td>\n",
       "      <td>-0.847</td>\n",
       "      <td>-0.663</td>\n",
       "      <td>-0.723</td>\n",
       "      <td>-1.013</td>\n",
       "      <td>-0.748</td>\n",
       "      <td>-0.698</td>\n",
       "      <td>-0.817</td>\n",
       "      <td>5</td>\n",
       "    </tr>\n",
       "    <tr>\n",
       "      <th>2</th>\n",
       "      <td>-1.107</td>\n",
       "      <td>-0.649</td>\n",
       "      <td>-0.629</td>\n",
       "      <td>-0.492</td>\n",
       "      <td>-0.367</td>\n",
       "      <td>-0.298</td>\n",
       "      <td>-0.682</td>\n",
       "      <td>-0.478</td>\n",
       "      <td>-0.395</td>\n",
       "      <td>-0.681</td>\n",
       "      <td>...</td>\n",
       "      <td>-0.692</td>\n",
       "      <td>-0.445</td>\n",
       "      <td>-0.588</td>\n",
       "      <td>-0.371</td>\n",
       "      <td>-0.368</td>\n",
       "      <td>-0.746</td>\n",
       "      <td>-0.457</td>\n",
       "      <td>-0.379</td>\n",
       "      <td>-0.469</td>\n",
       "      <td>5</td>\n",
       "    </tr>\n",
       "    <tr>\n",
       "      <th>3</th>\n",
       "      <td>-1.270</td>\n",
       "      <td>-0.855</td>\n",
       "      <td>-0.958</td>\n",
       "      <td>-0.707</td>\n",
       "      <td>-0.619</td>\n",
       "      <td>-0.469</td>\n",
       "      <td>-0.872</td>\n",
       "      <td>-0.705</td>\n",
       "      <td>-0.620</td>\n",
       "      <td>-0.988</td>\n",
       "      <td>...</td>\n",
       "      <td>-0.829</td>\n",
       "      <td>-0.719</td>\n",
       "      <td>-0.774</td>\n",
       "      <td>-0.617</td>\n",
       "      <td>-0.688</td>\n",
       "      <td>-0.937</td>\n",
       "      <td>-0.693</td>\n",
       "      <td>-0.657</td>\n",
       "      <td>-0.779</td>\n",
       "      <td>5</td>\n",
       "    </tr>\n",
       "    <tr>\n",
       "      <th>4</th>\n",
       "      <td>-1.331</td>\n",
       "      <td>-0.862</td>\n",
       "      <td>-0.761</td>\n",
       "      <td>-0.689</td>\n",
       "      <td>-0.498</td>\n",
       "      <td>-0.361</td>\n",
       "      <td>-0.857</td>\n",
       "      <td>-0.600</td>\n",
       "      <td>-0.496</td>\n",
       "      <td>-0.779</td>\n",
       "      <td>...</td>\n",
       "      <td>-0.861</td>\n",
       "      <td>-0.571</td>\n",
       "      <td>-0.784</td>\n",
       "      <td>-0.545</td>\n",
       "      <td>-0.562</td>\n",
       "      <td>-0.952</td>\n",
       "      <td>-0.642</td>\n",
       "      <td>-0.578</td>\n",
       "      <td>-0.648</td>\n",
       "      <td>5</td>\n",
       "    </tr>\n",
       "  </tbody>\n",
       "</table>\n",
       "<p>5 rows × 41 columns</p>\n",
       "</div>"
      ],
      "text/plain": [
       "      V1     V2     V3     V4     V5     V6     V7     V8     V9    V10  ...  \\\n",
       "0 -1.223 -0.798 -0.867 -0.639 -0.545 -0.412 -0.795 -0.629 -0.547 -0.868  ...   \n",
       "1 -1.410 -1.029 -1.013 -0.895 -0.762 -0.676 -1.043 -0.851 -0.775 -1.037  ...   \n",
       "2 -1.107 -0.649 -0.629 -0.492 -0.367 -0.298 -0.682 -0.478 -0.395 -0.681  ...   \n",
       "3 -1.270 -0.855 -0.958 -0.707 -0.619 -0.469 -0.872 -0.705 -0.620 -0.988  ...   \n",
       "4 -1.331 -0.862 -0.761 -0.689 -0.498 -0.361 -0.857 -0.600 -0.496 -0.779  ...   \n",
       "\n",
       "     V32    V33    V34    V35    V36    V37    V38    V39    V40  Class  \n",
       "0 -0.766 -0.555 -0.714 -0.545 -0.587 -0.871 -0.620 -0.568 -0.607      5  \n",
       "1 -0.919 -0.770 -0.847 -0.663 -0.723 -1.013 -0.748 -0.698 -0.817      5  \n",
       "2 -0.692 -0.445 -0.588 -0.371 -0.368 -0.746 -0.457 -0.379 -0.469      5  \n",
       "3 -0.829 -0.719 -0.774 -0.617 -0.688 -0.937 -0.693 -0.657 -0.779      5  \n",
       "4 -0.861 -0.571 -0.784 -0.545 -0.562 -0.952 -0.642 -0.578 -0.648      5  \n",
       "\n",
       "[5 rows x 41 columns]"
      ]
     },
     "execution_count": 4,
     "metadata": {},
     "output_type": "execute_result"
    }
   ],
   "source": [
    "data.head()"
   ]
  },
  {
   "attachments": {},
   "cell_type": "markdown",
   "metadata": {},
   "source": [
    "Pregled tipova podataka:\n",
    "Svi tipovi su **float64**"
   ]
  },
  {
   "cell_type": "code",
   "execution_count": 5,
   "metadata": {},
   "outputs": [
    {
     "name": "stdout",
     "output_type": "stream",
     "text": [
      "<class 'pandas.core.frame.DataFrame'>\n",
      "RangeIndex: 5500 entries, 0 to 5499\n",
      "Data columns (total 41 columns):\n",
      " #   Column  Non-Null Count  Dtype  \n",
      "---  ------  --------------  -----  \n",
      " 0   V1      5500 non-null   float64\n",
      " 1   V2      5500 non-null   float64\n",
      " 2   V3      5500 non-null   float64\n",
      " 3   V4      5500 non-null   float64\n",
      " 4   V5      5500 non-null   float64\n",
      " 5   V6      5500 non-null   float64\n",
      " 6   V7      5500 non-null   float64\n",
      " 7   V8      5500 non-null   float64\n",
      " 8   V9      5500 non-null   float64\n",
      " 9   V10     5500 non-null   float64\n",
      " 10  V11     5500 non-null   float64\n",
      " 11  V12     5500 non-null   float64\n",
      " 12  V13     5500 non-null   float64\n",
      " 13  V14     5500 non-null   float64\n",
      " 14  V15     5500 non-null   float64\n",
      " 15  V16     5500 non-null   float64\n",
      " 16  V17     5500 non-null   float64\n",
      " 17  V18     5500 non-null   float64\n",
      " 18  V19     5500 non-null   float64\n",
      " 19  V20     5500 non-null   float64\n",
      " 20  V21     5500 non-null   float64\n",
      " 21  V22     5500 non-null   float64\n",
      " 22  V23     5500 non-null   float64\n",
      " 23  V24     5500 non-null   float64\n",
      " 24  V25     5500 non-null   float64\n",
      " 25  V26     5500 non-null   float64\n",
      " 26  V27     5500 non-null   float64\n",
      " 27  V28     5500 non-null   float64\n",
      " 28  V29     5500 non-null   float64\n",
      " 29  V30     5500 non-null   float64\n",
      " 30  V31     5500 non-null   float64\n",
      " 31  V32     5500 non-null   float64\n",
      " 32  V33     5500 non-null   float64\n",
      " 33  V34     5500 non-null   float64\n",
      " 34  V35     5500 non-null   float64\n",
      " 35  V36     5500 non-null   float64\n",
      " 36  V37     5500 non-null   float64\n",
      " 37  V38     5500 non-null   float64\n",
      " 38  V39     5500 non-null   float64\n",
      " 39  V40     5500 non-null   float64\n",
      " 40  Class   5500 non-null   int64  \n",
      "dtypes: float64(40), int64(1)\n",
      "memory usage: 1.7 MB\n"
     ]
    }
   ],
   "source": [
    "data.info()"
   ]
  },
  {
   "attachments": {},
   "cell_type": "markdown",
   "metadata": {},
   "source": [
    "Osnovne statistike:"
   ]
  },
  {
   "cell_type": "code",
   "execution_count": 6,
   "metadata": {},
   "outputs": [
    {
     "data": {
      "text/html": [
       "<div>\n",
       "<style scoped>\n",
       "    .dataframe tbody tr th:only-of-type {\n",
       "        vertical-align: middle;\n",
       "    }\n",
       "\n",
       "    .dataframe tbody tr th {\n",
       "        vertical-align: top;\n",
       "    }\n",
       "\n",
       "    .dataframe thead th {\n",
       "        text-align: right;\n",
       "    }\n",
       "</style>\n",
       "<table border=\"1\" class=\"dataframe\">\n",
       "  <thead>\n",
       "    <tr style=\"text-align: right;\">\n",
       "      <th></th>\n",
       "      <th>V1</th>\n",
       "      <th>V2</th>\n",
       "      <th>V3</th>\n",
       "      <th>V4</th>\n",
       "      <th>V5</th>\n",
       "      <th>V6</th>\n",
       "      <th>V7</th>\n",
       "      <th>V8</th>\n",
       "      <th>V9</th>\n",
       "      <th>V10</th>\n",
       "      <th>...</th>\n",
       "      <th>V32</th>\n",
       "      <th>V33</th>\n",
       "      <th>V34</th>\n",
       "      <th>V35</th>\n",
       "      <th>V36</th>\n",
       "      <th>V37</th>\n",
       "      <th>V38</th>\n",
       "      <th>V39</th>\n",
       "      <th>V40</th>\n",
       "      <th>Class</th>\n",
       "    </tr>\n",
       "  </thead>\n",
       "  <tbody>\n",
       "    <tr>\n",
       "      <th>count</th>\n",
       "      <td>5500.000000</td>\n",
       "      <td>5500.000000</td>\n",
       "      <td>5500.000000</td>\n",
       "      <td>5500.000000</td>\n",
       "      <td>5500.00000</td>\n",
       "      <td>5500.000000</td>\n",
       "      <td>5500.000000</td>\n",
       "      <td>5500.000000</td>\n",
       "      <td>5500.000000</td>\n",
       "      <td>5500.000000</td>\n",
       "      <td>...</td>\n",
       "      <td>5500.00000</td>\n",
       "      <td>5500.000000</td>\n",
       "      <td>5500.000000</td>\n",
       "      <td>5500.000000</td>\n",
       "      <td>5500.000000</td>\n",
       "      <td>5500.000000</td>\n",
       "      <td>5500.000000</td>\n",
       "      <td>5500.000000</td>\n",
       "      <td>5500.000000</td>\n",
       "      <td>5500.000000</td>\n",
       "    </tr>\n",
       "    <tr>\n",
       "      <th>mean</th>\n",
       "      <td>-1.098305</td>\n",
       "      <td>-0.586687</td>\n",
       "      <td>-0.583850</td>\n",
       "      <td>-0.404649</td>\n",
       "      <td>-0.33066</td>\n",
       "      <td>-0.242159</td>\n",
       "      <td>-0.602652</td>\n",
       "      <td>-0.432157</td>\n",
       "      <td>-0.331710</td>\n",
       "      <td>-0.597805</td>\n",
       "      <td>...</td>\n",
       "      <td>-0.64627</td>\n",
       "      <td>-0.491891</td>\n",
       "      <td>-0.643538</td>\n",
       "      <td>-0.491798</td>\n",
       "      <td>-0.593414</td>\n",
       "      <td>-0.779550</td>\n",
       "      <td>-0.554091</td>\n",
       "      <td>-0.523016</td>\n",
       "      <td>-0.567652</td>\n",
       "      <td>6.000000</td>\n",
       "    </tr>\n",
       "    <tr>\n",
       "      <th>std</th>\n",
       "      <td>0.203403</td>\n",
       "      <td>0.205537</td>\n",
       "      <td>0.313495</td>\n",
       "      <td>0.230204</td>\n",
       "      <td>0.23596</td>\n",
       "      <td>0.222505</td>\n",
       "      <td>0.200269</td>\n",
       "      <td>0.221036</td>\n",
       "      <td>0.236053</td>\n",
       "      <td>0.326766</td>\n",
       "      <td>...</td>\n",
       "      <td>0.18904</td>\n",
       "      <td>0.330407</td>\n",
       "      <td>0.144121</td>\n",
       "      <td>0.192161</td>\n",
       "      <td>0.170377</td>\n",
       "      <td>0.164106</td>\n",
       "      <td>0.211149</td>\n",
       "      <td>0.201482</td>\n",
       "      <td>0.309110</td>\n",
       "      <td>3.162565</td>\n",
       "    </tr>\n",
       "    <tr>\n",
       "      <th>min</th>\n",
       "      <td>-1.450000</td>\n",
       "      <td>-1.200000</td>\n",
       "      <td>-1.310000</td>\n",
       "      <td>-1.110000</td>\n",
       "      <td>-1.05300</td>\n",
       "      <td>-1.003000</td>\n",
       "      <td>-1.208000</td>\n",
       "      <td>-1.080000</td>\n",
       "      <td>-1.057000</td>\n",
       "      <td>-1.258000</td>\n",
       "      <td>...</td>\n",
       "      <td>-1.17900</td>\n",
       "      <td>-1.147000</td>\n",
       "      <td>-1.123000</td>\n",
       "      <td>-1.015000</td>\n",
       "      <td>-1.030000</td>\n",
       "      <td>-1.253000</td>\n",
       "      <td>-1.097000</td>\n",
       "      <td>-1.076000</td>\n",
       "      <td>-1.215000</td>\n",
       "      <td>1.000000</td>\n",
       "    </tr>\n",
       "    <tr>\n",
       "      <th>25%</th>\n",
       "      <td>-1.218000</td>\n",
       "      <td>-0.712250</td>\n",
       "      <td>-0.771250</td>\n",
       "      <td>-0.535000</td>\n",
       "      <td>-0.48025</td>\n",
       "      <td>-0.345000</td>\n",
       "      <td>-0.720000</td>\n",
       "      <td>-0.584000</td>\n",
       "      <td>-0.484000</td>\n",
       "      <td>-0.828000</td>\n",
       "      <td>...</td>\n",
       "      <td>-0.78100</td>\n",
       "      <td>-0.751250</td>\n",
       "      <td>-0.743000</td>\n",
       "      <td>-0.638000</td>\n",
       "      <td>-0.719000</td>\n",
       "      <td>-0.908000</td>\n",
       "      <td>-0.717000</td>\n",
       "      <td>-0.668000</td>\n",
       "      <td>-0.789000</td>\n",
       "      <td>3.000000</td>\n",
       "    </tr>\n",
       "    <tr>\n",
       "      <th>50%</th>\n",
       "      <td>-1.149000</td>\n",
       "      <td>-0.562000</td>\n",
       "      <td>-0.530000</td>\n",
       "      <td>-0.372000</td>\n",
       "      <td>-0.27200</td>\n",
       "      <td>-0.184000</td>\n",
       "      <td>-0.580000</td>\n",
       "      <td>-0.380000</td>\n",
       "      <td>-0.272000</td>\n",
       "      <td>-0.560000</td>\n",
       "      <td>...</td>\n",
       "      <td>-0.64300</td>\n",
       "      <td>-0.530000</td>\n",
       "      <td>-0.630000</td>\n",
       "      <td>-0.491000</td>\n",
       "      <td>-0.577000</td>\n",
       "      <td>-0.765000</td>\n",
       "      <td>-0.561500</td>\n",
       "      <td>-0.506000</td>\n",
       "      <td>-0.591000</td>\n",
       "      <td>6.000000</td>\n",
       "    </tr>\n",
       "    <tr>\n",
       "      <th>75%</th>\n",
       "      <td>-1.044000</td>\n",
       "      <td>-0.456000</td>\n",
       "      <td>-0.352000</td>\n",
       "      <td>-0.258000</td>\n",
       "      <td>-0.16400</td>\n",
       "      <td>-0.083000</td>\n",
       "      <td>-0.481000</td>\n",
       "      <td>-0.280000</td>\n",
       "      <td>-0.163000</td>\n",
       "      <td>-0.343000</td>\n",
       "      <td>...</td>\n",
       "      <td>-0.54200</td>\n",
       "      <td>-0.253000</td>\n",
       "      <td>-0.559000</td>\n",
       "      <td>-0.338000</td>\n",
       "      <td>-0.464000</td>\n",
       "      <td>-0.686000</td>\n",
       "      <td>-0.397000</td>\n",
       "      <td>-0.367750</td>\n",
       "      <td>-0.345000</td>\n",
       "      <td>9.000000</td>\n",
       "    </tr>\n",
       "    <tr>\n",
       "      <th>max</th>\n",
       "      <td>0.774000</td>\n",
       "      <td>0.330000</td>\n",
       "      <td>0.344000</td>\n",
       "      <td>0.588000</td>\n",
       "      <td>0.43900</td>\n",
       "      <td>0.452000</td>\n",
       "      <td>0.525000</td>\n",
       "      <td>0.398000</td>\n",
       "      <td>0.437000</td>\n",
       "      <td>0.355000</td>\n",
       "      <td>...</td>\n",
       "      <td>0.56500</td>\n",
       "      <td>0.675000</td>\n",
       "      <td>0.313000</td>\n",
       "      <td>0.340000</td>\n",
       "      <td>0.156000</td>\n",
       "      <td>0.090000</td>\n",
       "      <td>0.194000</td>\n",
       "      <td>0.202000</td>\n",
       "      <td>0.465000</td>\n",
       "      <td>11.000000</td>\n",
       "    </tr>\n",
       "  </tbody>\n",
       "</table>\n",
       "<p>8 rows × 41 columns</p>\n",
       "</div>"
      ],
      "text/plain": [
       "                V1           V2           V3           V4          V5  \\\n",
       "count  5500.000000  5500.000000  5500.000000  5500.000000  5500.00000   \n",
       "mean     -1.098305    -0.586687    -0.583850    -0.404649    -0.33066   \n",
       "std       0.203403     0.205537     0.313495     0.230204     0.23596   \n",
       "min      -1.450000    -1.200000    -1.310000    -1.110000    -1.05300   \n",
       "25%      -1.218000    -0.712250    -0.771250    -0.535000    -0.48025   \n",
       "50%      -1.149000    -0.562000    -0.530000    -0.372000    -0.27200   \n",
       "75%      -1.044000    -0.456000    -0.352000    -0.258000    -0.16400   \n",
       "max       0.774000     0.330000     0.344000     0.588000     0.43900   \n",
       "\n",
       "                V6           V7           V8           V9          V10  ...  \\\n",
       "count  5500.000000  5500.000000  5500.000000  5500.000000  5500.000000  ...   \n",
       "mean     -0.242159    -0.602652    -0.432157    -0.331710    -0.597805  ...   \n",
       "std       0.222505     0.200269     0.221036     0.236053     0.326766  ...   \n",
       "min      -1.003000    -1.208000    -1.080000    -1.057000    -1.258000  ...   \n",
       "25%      -0.345000    -0.720000    -0.584000    -0.484000    -0.828000  ...   \n",
       "50%      -0.184000    -0.580000    -0.380000    -0.272000    -0.560000  ...   \n",
       "75%      -0.083000    -0.481000    -0.280000    -0.163000    -0.343000  ...   \n",
       "max       0.452000     0.525000     0.398000     0.437000     0.355000  ...   \n",
       "\n",
       "              V32          V33          V34          V35          V36  \\\n",
       "count  5500.00000  5500.000000  5500.000000  5500.000000  5500.000000   \n",
       "mean     -0.64627    -0.491891    -0.643538    -0.491798    -0.593414   \n",
       "std       0.18904     0.330407     0.144121     0.192161     0.170377   \n",
       "min      -1.17900    -1.147000    -1.123000    -1.015000    -1.030000   \n",
       "25%      -0.78100    -0.751250    -0.743000    -0.638000    -0.719000   \n",
       "50%      -0.64300    -0.530000    -0.630000    -0.491000    -0.577000   \n",
       "75%      -0.54200    -0.253000    -0.559000    -0.338000    -0.464000   \n",
       "max       0.56500     0.675000     0.313000     0.340000     0.156000   \n",
       "\n",
       "               V37          V38          V39          V40        Class  \n",
       "count  5500.000000  5500.000000  5500.000000  5500.000000  5500.000000  \n",
       "mean     -0.779550    -0.554091    -0.523016    -0.567652     6.000000  \n",
       "std       0.164106     0.211149     0.201482     0.309110     3.162565  \n",
       "min      -1.253000    -1.097000    -1.076000    -1.215000     1.000000  \n",
       "25%      -0.908000    -0.717000    -0.668000    -0.789000     3.000000  \n",
       "50%      -0.765000    -0.561500    -0.506000    -0.591000     6.000000  \n",
       "75%      -0.686000    -0.397000    -0.367750    -0.345000     9.000000  \n",
       "max       0.090000     0.194000     0.202000     0.465000    11.000000  \n",
       "\n",
       "[8 rows x 41 columns]"
      ]
     },
     "execution_count": 6,
     "metadata": {},
     "output_type": "execute_result"
    }
   ],
   "source": [
    "data.describe()"
   ]
  },
  {
   "attachments": {},
   "cell_type": "markdown",
   "metadata": {},
   "source": [
    "Provreavamo da li u nasem skupu atributa postoje nedostajuce vrednosi.\n",
    "U ovom konkretnom slucaju ne postoje nedostajuce vrednosti, stoga bezbedno mozemo da primenimo algoritme klasifikacije i klasterovanja.\n",
    "Ukoliko bi ostojale, primenili bi neku od metoda za nihovo uklanjane/popunjavanje.\n"
   ]
  },
  {
   "cell_type": "code",
   "execution_count": 7,
   "metadata": {},
   "outputs": [
    {
     "data": {
      "text/plain": [
       "V1       0\n",
       "V2       0\n",
       "V3       0\n",
       "V4       0\n",
       "V5       0\n",
       "V6       0\n",
       "V7       0\n",
       "V8       0\n",
       "V9       0\n",
       "V10      0\n",
       "V11      0\n",
       "V12      0\n",
       "V13      0\n",
       "V14      0\n",
       "V15      0\n",
       "V16      0\n",
       "V17      0\n",
       "V18      0\n",
       "V19      0\n",
       "V20      0\n",
       "V21      0\n",
       "V22      0\n",
       "V23      0\n",
       "V24      0\n",
       "V25      0\n",
       "V26      0\n",
       "V27      0\n",
       "V28      0\n",
       "V29      0\n",
       "V30      0\n",
       "V31      0\n",
       "V32      0\n",
       "V33      0\n",
       "V34      0\n",
       "V35      0\n",
       "V36      0\n",
       "V37      0\n",
       "V38      0\n",
       "V39      0\n",
       "V40      0\n",
       "Class    0\n",
       "dtype: int64"
      ]
     },
     "execution_count": 7,
     "metadata": {},
     "output_type": "execute_result"
    }
   ],
   "source": [
    "data.isna().sum()"
   ]
  },
  {
   "cell_type": "code",
   "execution_count": 32,
   "metadata": {},
   "outputs": [
    {
     "data": {
      "text/html": [
       "<div>\n",
       "<style scoped>\n",
       "    .dataframe tbody tr th:only-of-type {\n",
       "        vertical-align: middle;\n",
       "    }\n",
       "\n",
       "    .dataframe tbody tr th {\n",
       "        vertical-align: top;\n",
       "    }\n",
       "\n",
       "    .dataframe thead tr th {\n",
       "        text-align: left;\n",
       "    }\n",
       "\n",
       "    .dataframe thead tr:last-of-type th {\n",
       "        text-align: right;\n",
       "    }\n",
       "</style>\n",
       "<table border=\"1\" class=\"dataframe\">\n",
       "  <thead>\n",
       "    <tr>\n",
       "      <th></th>\n",
       "      <th colspan=\"8\" halign=\"left\">V1</th>\n",
       "      <th colspan=\"2\" halign=\"left\">V2</th>\n",
       "      <th>...</th>\n",
       "      <th colspan=\"2\" halign=\"left\">V39</th>\n",
       "      <th colspan=\"8\" halign=\"left\">V40</th>\n",
       "    </tr>\n",
       "    <tr>\n",
       "      <th></th>\n",
       "      <th>count</th>\n",
       "      <th>mean</th>\n",
       "      <th>std</th>\n",
       "      <th>min</th>\n",
       "      <th>25%</th>\n",
       "      <th>50%</th>\n",
       "      <th>75%</th>\n",
       "      <th>max</th>\n",
       "      <th>count</th>\n",
       "      <th>mean</th>\n",
       "      <th>...</th>\n",
       "      <th>75%</th>\n",
       "      <th>max</th>\n",
       "      <th>count</th>\n",
       "      <th>mean</th>\n",
       "      <th>std</th>\n",
       "      <th>min</th>\n",
       "      <th>25%</th>\n",
       "      <th>50%</th>\n",
       "      <th>75%</th>\n",
       "      <th>max</th>\n",
       "    </tr>\n",
       "    <tr>\n",
       "      <th>Class</th>\n",
       "      <th></th>\n",
       "      <th></th>\n",
       "      <th></th>\n",
       "      <th></th>\n",
       "      <th></th>\n",
       "      <th></th>\n",
       "      <th></th>\n",
       "      <th></th>\n",
       "      <th></th>\n",
       "      <th></th>\n",
       "      <th></th>\n",
       "      <th></th>\n",
       "      <th></th>\n",
       "      <th></th>\n",
       "      <th></th>\n",
       "      <th></th>\n",
       "      <th></th>\n",
       "      <th></th>\n",
       "      <th></th>\n",
       "      <th></th>\n",
       "      <th></th>\n",
       "    </tr>\n",
       "  </thead>\n",
       "  <tbody>\n",
       "    <tr>\n",
       "      <th>1</th>\n",
       "      <td>500.0</td>\n",
       "      <td>-0.930648</td>\n",
       "      <td>0.332267</td>\n",
       "      <td>-1.269</td>\n",
       "      <td>-1.12800</td>\n",
       "      <td>-1.0485</td>\n",
       "      <td>-0.86100</td>\n",
       "      <td>0.774</td>\n",
       "      <td>500.0</td>\n",
       "      <td>-0.395698</td>\n",
       "      <td>...</td>\n",
       "      <td>-0.31400</td>\n",
       "      <td>0.202</td>\n",
       "      <td>500.0</td>\n",
       "      <td>-0.336600</td>\n",
       "      <td>0.111919</td>\n",
       "      <td>-0.567</td>\n",
       "      <td>-0.41225</td>\n",
       "      <td>-0.3410</td>\n",
       "      <td>-0.27800</td>\n",
       "      <td>0.357</td>\n",
       "    </tr>\n",
       "    <tr>\n",
       "      <th>2</th>\n",
       "      <td>500.0</td>\n",
       "      <td>-1.194594</td>\n",
       "      <td>0.080486</td>\n",
       "      <td>-1.394</td>\n",
       "      <td>-1.25100</td>\n",
       "      <td>-1.1970</td>\n",
       "      <td>-1.14375</td>\n",
       "      <td>-0.924</td>\n",
       "      <td>500.0</td>\n",
       "      <td>-0.732426</td>\n",
       "      <td>...</td>\n",
       "      <td>-0.78500</td>\n",
       "      <td>-0.664</td>\n",
       "      <td>500.0</td>\n",
       "      <td>-1.009462</td>\n",
       "      <td>0.044973</td>\n",
       "      <td>-1.124</td>\n",
       "      <td>-1.04125</td>\n",
       "      <td>-1.0115</td>\n",
       "      <td>-0.97900</td>\n",
       "      <td>-0.833</td>\n",
       "    </tr>\n",
       "    <tr>\n",
       "      <th>3</th>\n",
       "      <td>500.0</td>\n",
       "      <td>-1.008376</td>\n",
       "      <td>0.200511</td>\n",
       "      <td>-1.321</td>\n",
       "      <td>-1.15300</td>\n",
       "      <td>-1.0445</td>\n",
       "      <td>-0.90050</td>\n",
       "      <td>-0.171</td>\n",
       "      <td>500.0</td>\n",
       "      <td>-0.479228</td>\n",
       "      <td>...</td>\n",
       "      <td>-0.18575</td>\n",
       "      <td>-0.035</td>\n",
       "      <td>500.0</td>\n",
       "      <td>-0.002296</td>\n",
       "      <td>0.118289</td>\n",
       "      <td>-0.342</td>\n",
       "      <td>-0.08400</td>\n",
       "      <td>-0.0020</td>\n",
       "      <td>0.07800</td>\n",
       "      <td>0.465</td>\n",
       "    </tr>\n",
       "    <tr>\n",
       "      <th>4</th>\n",
       "      <td>500.0</td>\n",
       "      <td>-1.112364</td>\n",
       "      <td>0.165914</td>\n",
       "      <td>-1.414</td>\n",
       "      <td>-1.22625</td>\n",
       "      <td>-1.1625</td>\n",
       "      <td>-1.00650</td>\n",
       "      <td>-0.439</td>\n",
       "      <td>500.0</td>\n",
       "      <td>-0.444424</td>\n",
       "      <td>...</td>\n",
       "      <td>-0.39500</td>\n",
       "      <td>-0.101</td>\n",
       "      <td>500.0</td>\n",
       "      <td>-0.443068</td>\n",
       "      <td>0.127865</td>\n",
       "      <td>-0.835</td>\n",
       "      <td>-0.52775</td>\n",
       "      <td>-0.4480</td>\n",
       "      <td>-0.37275</td>\n",
       "      <td>0.057</td>\n",
       "    </tr>\n",
       "    <tr>\n",
       "      <th>5</th>\n",
       "      <td>500.0</td>\n",
       "      <td>-1.132184</td>\n",
       "      <td>0.130734</td>\n",
       "      <td>-1.422</td>\n",
       "      <td>-1.21800</td>\n",
       "      <td>-1.1410</td>\n",
       "      <td>-1.05875</td>\n",
       "      <td>-0.532</td>\n",
       "      <td>500.0</td>\n",
       "      <td>-0.713032</td>\n",
       "      <td>...</td>\n",
       "      <td>-0.49375</td>\n",
       "      <td>-0.318</td>\n",
       "      <td>500.0</td>\n",
       "      <td>-0.640556</td>\n",
       "      <td>0.124040</td>\n",
       "      <td>-0.945</td>\n",
       "      <td>-0.73300</td>\n",
       "      <td>-0.6425</td>\n",
       "      <td>-0.54900</td>\n",
       "      <td>-0.325</td>\n",
       "    </tr>\n",
       "    <tr>\n",
       "      <th>6</th>\n",
       "      <td>500.0</td>\n",
       "      <td>-1.204404</td>\n",
       "      <td>0.069951</td>\n",
       "      <td>-1.382</td>\n",
       "      <td>-1.24825</td>\n",
       "      <td>-1.2070</td>\n",
       "      <td>-1.16000</td>\n",
       "      <td>-0.990</td>\n",
       "      <td>500.0</td>\n",
       "      <td>-0.594990</td>\n",
       "      <td>...</td>\n",
       "      <td>-0.56575</td>\n",
       "      <td>-0.403</td>\n",
       "      <td>500.0</td>\n",
       "      <td>-0.697598</td>\n",
       "      <td>0.095651</td>\n",
       "      <td>-0.957</td>\n",
       "      <td>-0.75900</td>\n",
       "      <td>-0.7025</td>\n",
       "      <td>-0.64150</td>\n",
       "      <td>-0.379</td>\n",
       "    </tr>\n",
       "    <tr>\n",
       "      <th>7</th>\n",
       "      <td>500.0</td>\n",
       "      <td>-1.212246</td>\n",
       "      <td>0.090970</td>\n",
       "      <td>-1.450</td>\n",
       "      <td>-1.27525</td>\n",
       "      <td>-1.2180</td>\n",
       "      <td>-1.15175</td>\n",
       "      <td>-0.891</td>\n",
       "      <td>500.0</td>\n",
       "      <td>-0.960624</td>\n",
       "      <td>...</td>\n",
       "      <td>-0.77775</td>\n",
       "      <td>-0.574</td>\n",
       "      <td>500.0</td>\n",
       "      <td>-0.991466</td>\n",
       "      <td>0.083629</td>\n",
       "      <td>-1.215</td>\n",
       "      <td>-1.05250</td>\n",
       "      <td>-0.9840</td>\n",
       "      <td>-0.93550</td>\n",
       "      <td>-0.705</td>\n",
       "    </tr>\n",
       "    <tr>\n",
       "      <th>8</th>\n",
       "      <td>500.0</td>\n",
       "      <td>-1.178192</td>\n",
       "      <td>0.068660</td>\n",
       "      <td>-1.332</td>\n",
       "      <td>-1.22600</td>\n",
       "      <td>-1.1830</td>\n",
       "      <td>-1.13300</td>\n",
       "      <td>-0.993</td>\n",
       "      <td>500.0</td>\n",
       "      <td>-0.528458</td>\n",
       "      <td>...</td>\n",
       "      <td>-0.29600</td>\n",
       "      <td>-0.189</td>\n",
       "      <td>500.0</td>\n",
       "      <td>-0.285896</td>\n",
       "      <td>0.088365</td>\n",
       "      <td>-0.548</td>\n",
       "      <td>-0.34325</td>\n",
       "      <td>-0.2845</td>\n",
       "      <td>-0.23075</td>\n",
       "      <td>-0.060</td>\n",
       "    </tr>\n",
       "    <tr>\n",
       "      <th>9</th>\n",
       "      <td>500.0</td>\n",
       "      <td>-1.173868</td>\n",
       "      <td>0.069825</td>\n",
       "      <td>-1.309</td>\n",
       "      <td>-1.22300</td>\n",
       "      <td>-1.1850</td>\n",
       "      <td>-1.14100</td>\n",
       "      <td>-0.866</td>\n",
       "      <td>500.0</td>\n",
       "      <td>-0.476120</td>\n",
       "      <td>...</td>\n",
       "      <td>-0.50300</td>\n",
       "      <td>-0.394</td>\n",
       "      <td>500.0</td>\n",
       "      <td>-0.721998</td>\n",
       "      <td>0.080498</td>\n",
       "      <td>-0.928</td>\n",
       "      <td>-0.77600</td>\n",
       "      <td>-0.7240</td>\n",
       "      <td>-0.66600</td>\n",
       "      <td>-0.522</td>\n",
       "    </tr>\n",
       "    <tr>\n",
       "      <th>10</th>\n",
       "      <td>500.0</td>\n",
       "      <td>-0.912026</td>\n",
       "      <td>0.278172</td>\n",
       "      <td>-1.273</td>\n",
       "      <td>-1.10400</td>\n",
       "      <td>-1.0195</td>\n",
       "      <td>-0.79475</td>\n",
       "      <td>0.158</td>\n",
       "      <td>500.0</td>\n",
       "      <td>-0.429040</td>\n",
       "      <td>...</td>\n",
       "      <td>-0.35700</td>\n",
       "      <td>-0.101</td>\n",
       "      <td>500.0</td>\n",
       "      <td>-0.396982</td>\n",
       "      <td>0.093572</td>\n",
       "      <td>-0.693</td>\n",
       "      <td>-0.45600</td>\n",
       "      <td>-0.3975</td>\n",
       "      <td>-0.33675</td>\n",
       "      <td>-0.032</td>\n",
       "    </tr>\n",
       "    <tr>\n",
       "      <th>11</th>\n",
       "      <td>500.0</td>\n",
       "      <td>-1.022458</td>\n",
       "      <td>0.173911</td>\n",
       "      <td>-1.354</td>\n",
       "      <td>-1.14125</td>\n",
       "      <td>-1.0405</td>\n",
       "      <td>-0.92875</td>\n",
       "      <td>-0.274</td>\n",
       "      <td>500.0</td>\n",
       "      <td>-0.699520</td>\n",
       "      <td>...</td>\n",
       "      <td>-0.54975</td>\n",
       "      <td>-0.296</td>\n",
       "      <td>500.0</td>\n",
       "      <td>-0.718252</td>\n",
       "      <td>0.105070</td>\n",
       "      <td>-1.003</td>\n",
       "      <td>-0.79000</td>\n",
       "      <td>-0.7155</td>\n",
       "      <td>-0.65375</td>\n",
       "      <td>-0.372</td>\n",
       "    </tr>\n",
       "  </tbody>\n",
       "</table>\n",
       "<p>11 rows × 320 columns</p>\n",
       "</div>"
      ],
      "text/plain": [
       "          V1                                                              \\\n",
       "       count      mean       std    min      25%     50%      75%    max   \n",
       "Class                                                                      \n",
       "1      500.0 -0.930648  0.332267 -1.269 -1.12800 -1.0485 -0.86100  0.774   \n",
       "2      500.0 -1.194594  0.080486 -1.394 -1.25100 -1.1970 -1.14375 -0.924   \n",
       "3      500.0 -1.008376  0.200511 -1.321 -1.15300 -1.0445 -0.90050 -0.171   \n",
       "4      500.0 -1.112364  0.165914 -1.414 -1.22625 -1.1625 -1.00650 -0.439   \n",
       "5      500.0 -1.132184  0.130734 -1.422 -1.21800 -1.1410 -1.05875 -0.532   \n",
       "6      500.0 -1.204404  0.069951 -1.382 -1.24825 -1.2070 -1.16000 -0.990   \n",
       "7      500.0 -1.212246  0.090970 -1.450 -1.27525 -1.2180 -1.15175 -0.891   \n",
       "8      500.0 -1.178192  0.068660 -1.332 -1.22600 -1.1830 -1.13300 -0.993   \n",
       "9      500.0 -1.173868  0.069825 -1.309 -1.22300 -1.1850 -1.14100 -0.866   \n",
       "10     500.0 -0.912026  0.278172 -1.273 -1.10400 -1.0195 -0.79475  0.158   \n",
       "11     500.0 -1.022458  0.173911 -1.354 -1.14125 -1.0405 -0.92875 -0.274   \n",
       "\n",
       "          V2            ...      V39           V40                             \\\n",
       "       count      mean  ...      75%    max  count      mean       std    min   \n",
       "Class                   ...                                                     \n",
       "1      500.0 -0.395698  ... -0.31400  0.202  500.0 -0.336600  0.111919 -0.567   \n",
       "2      500.0 -0.732426  ... -0.78500 -0.664  500.0 -1.009462  0.044973 -1.124   \n",
       "3      500.0 -0.479228  ... -0.18575 -0.035  500.0 -0.002296  0.118289 -0.342   \n",
       "4      500.0 -0.444424  ... -0.39500 -0.101  500.0 -0.443068  0.127865 -0.835   \n",
       "5      500.0 -0.713032  ... -0.49375 -0.318  500.0 -0.640556  0.124040 -0.945   \n",
       "6      500.0 -0.594990  ... -0.56575 -0.403  500.0 -0.697598  0.095651 -0.957   \n",
       "7      500.0 -0.960624  ... -0.77775 -0.574  500.0 -0.991466  0.083629 -1.215   \n",
       "8      500.0 -0.528458  ... -0.29600 -0.189  500.0 -0.285896  0.088365 -0.548   \n",
       "9      500.0 -0.476120  ... -0.50300 -0.394  500.0 -0.721998  0.080498 -0.928   \n",
       "10     500.0 -0.429040  ... -0.35700 -0.101  500.0 -0.396982  0.093572 -0.693   \n",
       "11     500.0 -0.699520  ... -0.54975 -0.296  500.0 -0.718252  0.105070 -1.003   \n",
       "\n",
       "                                        \n",
       "           25%     50%      75%    max  \n",
       "Class                                   \n",
       "1     -0.41225 -0.3410 -0.27800  0.357  \n",
       "2     -1.04125 -1.0115 -0.97900 -0.833  \n",
       "3     -0.08400 -0.0020  0.07800  0.465  \n",
       "4     -0.52775 -0.4480 -0.37275  0.057  \n",
       "5     -0.73300 -0.6425 -0.54900 -0.325  \n",
       "6     -0.75900 -0.7025 -0.64150 -0.379  \n",
       "7     -1.05250 -0.9840 -0.93550 -0.705  \n",
       "8     -0.34325 -0.2845 -0.23075 -0.060  \n",
       "9     -0.77600 -0.7240 -0.66600 -0.522  \n",
       "10    -0.45600 -0.3975 -0.33675 -0.032  \n",
       "11    -0.79000 -0.7155 -0.65375 -0.372  \n",
       "\n",
       "[11 rows x 320 columns]"
      ]
     },
     "execution_count": 32,
     "metadata": {},
     "output_type": "execute_result"
    }
   ],
   "source": [
    "data.groupby('Class').describe()"
   ]
  },
  {
   "cell_type": "code",
   "execution_count": 42,
   "metadata": {},
   "outputs": [
    {
     "name": "stderr",
     "output_type": "stream",
     "text": [
      "/home/natasa/anaconda3/lib/python3.9/site-packages/seaborn/_decorators.py:36: FutureWarning: Pass the following variable as a keyword arg: x. From version 0.12, the only valid positional argument will be `data`, and passing other arguments without an explicit keyword will result in an error or misinterpretation.\n",
      "  warnings.warn(\n"
     ]
    },
    {
     "data": {
      "text/plain": [
       "<AxesSubplot:xlabel='Class', ylabel='count'>"
      ]
     },
     "execution_count": 42,
     "metadata": {},
     "output_type": "execute_result"
    },
    {
     "data": {
      "image/png": "[encoded data removed]",
      "text/plain": [
       "<Figure size 1200x900 with 1 Axes>"
      ]
     },
     "metadata": {},
     "output_type": "display_data"
    }
   ],
   "source": [
    "plt.figure(figsize=(12, 9))\n",
    "# plt.plot(data.Class, data.Class.value_counts().sort_values(ascending=True))\n",
    "\n",
    "group_by_class = data.Class.value_counts().sort_values(ascending=True)\n",
    "\n",
    "\n",
    "\n",
    "sns.countplot(group_by_class)"
   ]
  },
  {
   "cell_type": "code",
   "execution_count": 53,
   "metadata": {},
   "outputs": [
    {
     "data": {
      "image/png": "[encoded data removed]",
      "text/plain": [
       "<Figure size 200x200 with 1 Axes>"
      ]
     },
     "metadata": {},
     "output_type": "display_data"
    },
    {
     "data": {
      "image/png": "[encoded data removed]",
      "text/plain": [
       "<Figure size 200x200 with 1 Axes>"
      ]
     },
     "metadata": {},
     "output_type": "display_data"
    },
    {
     "data": {
      "image/png": "[encoded data removed]",
      "text/plain": [
       "<Figure size 200x200 with 1 Axes>"
      ]
     },
     "metadata": {},
     "output_type": "display_data"
    },
    {
     "data": {
      "image/png": "[encoded data removed]",
      "text/plain": [
       "<Figure size 200x200 with 1 Axes>"
      ]
     },
     "metadata": {},
     "output_type": "display_data"
    },
    {
     "data": {
      "image/png": "[encoded data removed]",
      "text/plain": [
       "<Figure size 200x200 with 1 Axes>"
      ]
     },
     "metadata": {},
     "output_type": "display_data"
    },
    {
     "data": {
      "image/png": "[encoded data removed]",
      "text/plain": [
       "<Figure size 200x200 with 1 Axes>"
      ]
     },
     "metadata": {},
     "output_type": "display_data"
    },
    {
     "data": {
      "image/png": "[encoded data removed]",
      "text/plain": [
       "<Figure size 200x200 with 1 Axes>"
      ]
     },
     "metadata": {},
     "output_type": "display_data"
    },
    {
     "data": {
      "image/png": "[encoded data removed]",
      "text/plain": [
       "<Figure size 200x200 with 1 Axes>"
      ]
     },
     "metadata": {},
     "output_type": "display_data"
    },
    {
     "data": {
      "image/png": "[encoded data removed]",
      "text/plain": [
       "<Figure size 200x200 with 1 Axes>"
      ]
     },
     "metadata": {},
     "output_type": "display_data"
    },
    {
     "data": {
      "image/png": "[encoded data removed]",
      "text/plain": [
       "<Figure size 200x200 with 1 Axes>"
      ]
     },
     "metadata": {},
     "output_type": "display_data"
    },
    {
     "data": {
      "image/png": "[encoded data removed]",
      "text/plain": [
       "<Figure size 200x200 with 1 Axes>"
      ]
     },
     "metadata": {},
     "output_type": "display_data"
    },
    {
     "data": {
      "image/png": "[encoded data removed]",
      "text/plain": [
       "<Figure size 200x200 with 1 Axes>"
      ]
     },
     "metadata": {},
     "output_type": "display_data"
    },
    {
     "data": {
      "image/png": "[encoded data removed]",
      "text/plain": [
       "<Figure size 200x200 with 1 Axes>"
      ]
     },
     "metadata": {},
     "output_type": "display_data"
    },
    {
     "data": {
      "image/png": "[encoded data removed]",
      "text/plain": [
       "<Figure size 200x200 with 1 Axes>"
      ]
     },
     "metadata": {},
     "output_type": "display_data"
    },
    {
     "data": {
      "image/png": "[encoded data removed]",
      "text/plain": [
       "<Figure size 200x200 with 1 Axes>"
      ]
     },
     "metadata": {},
     "output_type": "display_data"
    },
    {
     "data": {
      "image/png": "[encoded data removed]",
      "text/plain": [
       "<Figure size 200x200 with 1 Axes>"
      ]
     },
     "metadata": {},
     "output_type": "display_data"
    },
    {
     "data": {
      "image/png": "[encoded data removed]",
      "text/plain": [
       "<Figure size 200x200 with 1 Axes>"
      ]
     },
     "metadata": {},
     "output_type": "display_data"
    },
    {
     "data": {
      "image/png": "[encoded data removed]",
      "text/plain": [
       "<Figure size 200x200 with 1 Axes>"
      ]
     },
     "metadata": {},
     "output_type": "display_data"
    },
    {
     "data": {
      "image/png": "[encoded data removed]",
      "text/plain": [
       "<Figure size 200x200 with 1 Axes>"
      ]
     },
     "metadata": {},
     "output_type": "display_data"
    },
    {
     "data": {
      "image/png": "[encoded data removed]",
      "text/plain": [
       "<Figure size 200x200 with 1 Axes>"
      ]
     },
     "metadata": {},
     "output_type": "display_data"
    },
    {
     "data": {
      "image/png": "[encoded data removed]",
      "text/plain": [
       "<Figure size 200x200 with 1 Axes>"
      ]
     },
     "metadata": {},
     "output_type": "display_data"
    },
    {
     "data": {
      "image/png": "[encoded data removed]",
      "text/plain": [
       "<Figure size 200x200 with 1 Axes>"
      ]
     },
     "metadata": {},
     "output_type": "display_data"
    },
    {
     "data": {
      "image/png": "[encoded data removed]",
      "text/plain": [
       "<Figure size 200x200 with 1 Axes>"
      ]
     },
     "metadata": {},
     "output_type": "display_data"
    },
    {
     "data": {
      "image/png": "[encoded data removed]",
      "text/plain": [
       "<Figure size 200x200 with 1 Axes>"
      ]
     },
     "metadata": {},
     "output_type": "display_data"
    },
    {
     "data": {
      "image/png": "[encoded data removed]",
      "text/plain": [
       "<Figure size 200x200 with 1 Axes>"
      ]
     },
     "metadata": {},
     "output_type": "display_data"
    },
    {
     "data": {
      "image/png": "[encoded data removed]",
      "text/plain": [
       "<Figure size 200x200 with 1 Axes>"
      ]
     },
     "metadata": {},
     "output_type": "display_data"
    },
    {
     "data": {
      "image/png": "[encoded data removed]",
      "text/plain": [
       "<Figure size 200x200 with 1 Axes>"
      ]
     },
     "metadata": {},
     "output_type": "display_data"
    },
    {
     "data": {
      "image/png": "[encoded data removed]",
      "text/plain": [
       "<Figure size 200x200 with 1 Axes>"
      ]
     },
     "metadata": {},
     "output_type": "display_data"
    },
    {
     "data": {
      "image/png": "[encoded data removed]",
      "text/plain": [
       "<Figure size 200x200 with 1 Axes>"
      ]
     },
     "metadata": {},
     "output_type": "display_data"
    },
    {
     "data": {
      "image/png": "[encoded data removed]",
      "text/plain": [
       "<Figure size 200x200 with 1 Axes>"
      ]
     },
     "metadata": {},
     "output_type": "display_data"
    },
    {
     "data": {
      "image/png": "[encoded data removed]",
      "text/plain": [
       "<Figure size 200x200 with 1 Axes>"
      ]
     },
     "metadata": {},
     "output_type": "display_data"
    },
    {
     "data": {
      "image/png": "[encoded data removed]",
      "text/plain": [
       "<Figure size 200x200 with 1 Axes>"
      ]
     },
     "metadata": {},
     "output_type": "display_data"
    },
    {
     "data": {
      "image/png": "[encoded data removed]",
      "text/plain": [
       "<Figure size 200x200 with 1 Axes>"
      ]
     },
     "metadata": {},
     "output_type": "display_data"
    },
    {
     "data": {
      "image/png": "[encoded data removed]",
      "text/plain": [
       "<Figure size 200x200 with 1 Axes>"
      ]
     },
     "metadata": {},
     "output_type": "display_data"
    },
    {
     "data": {
      "image/png": "[encoded data removed]",
      "text/plain": [
       "<Figure size 200x200 with 1 Axes>"
      ]
     },
     "metadata": {},
     "output_type": "display_data"
    },
    {
     "data": {
      "image/png": "[encoded data removed]",
      "text/plain": [
       "<Figure size 200x200 with 1 Axes>"
      ]
     },
     "metadata": {},
     "output_type": "display_data"
    },
    {
     "data": {
      "image/png": "[encoded data removed]",
      "text/plain": [
       "<Figure size 200x200 with 1 Axes>"
      ]
     },
     "metadata": {},
     "output_type": "display_data"
    },
    {
     "data": {
      "image/png": "[encoded data removed]",
      "text/plain": [
       "<Figure size 200x200 with 1 Axes>"
      ]
     },
     "metadata": {},
     "output_type": "display_data"
    },
    {
     "data": {
      "image/png": "[encoded data removed]",
      "text/plain": [
       "<Figure size 200x200 with 1 Axes>"
      ]
     },
     "metadata": {},
     "output_type": "display_data"
    },
    {
     "data": {
      "image/png": "[encoded data removed]",
      "text/plain": [
       "<Figure size 200x200 with 1 Axes>"
      ]
     },
     "metadata": {},
     "output_type": "display_data"
    }
   ],
   "source": [
    "for col in data.iloc[:, :-1]:\n",
    "    plt.figure(figsize=(2, 2))\n",
    "    data[col].hist()\n",
    "    # plt.plot(data[col])\n",
    "    plt.show()"
   ]
  },
  {
   "attachments": {},
   "cell_type": "markdown",
   "metadata": {},
   "source": [
    "# Ucitavanje dodatnih modula"
   ]
  },
  {
   "attachments": {},
   "cell_type": "markdown",
   "metadata": {},
   "source": [
    "Ucitavanje potrebnih biblioteka kako bismo mogil da izvrsimo uspesnu klasifikaciju:"
   ]
  },
  {
   "cell_type": "code",
   "execution_count": 8,
   "metadata": {},
   "outputs": [],
   "source": [
    "from sklearn.model_selection import train_test_split\n",
    "from sklearn.tree import DecisionTreeClassifier, plot_tree\n",
    "from sklearn.ensemble import RandomForestClassifier\n",
    "from sklearn.metrics import confusion_matrix"
   ]
  },
  {
   "attachments": {},
   "cell_type": "markdown",
   "metadata": {},
   "source": [
    "# Preprocesiranje atributa\n",
    "\n",
    "Izdvajanje potrebnih atributa kako bi se mogla izvrsiti klasifikacija"
   ]
  },
  {
   "cell_type": "code",
   "execution_count": 28,
   "metadata": {},
   "outputs": [
    {
     "data": {
      "text/html": [
       "<div>\n",
       "<style scoped>\n",
       "    .dataframe tbody tr th:only-of-type {\n",
       "        vertical-align: middle;\n",
       "    }\n",
       "\n",
       "    .dataframe tbody tr th {\n",
       "        vertical-align: top;\n",
       "    }\n",
       "\n",
       "    .dataframe thead th {\n",
       "        text-align: right;\n",
       "    }\n",
       "</style>\n",
       "<table border=\"1\" class=\"dataframe\">\n",
       "  <thead>\n",
       "    <tr style=\"text-align: right;\">\n",
       "      <th></th>\n",
       "      <th>V1</th>\n",
       "      <th>V2</th>\n",
       "      <th>V3</th>\n",
       "      <th>V4</th>\n",
       "      <th>V5</th>\n",
       "      <th>V6</th>\n",
       "      <th>V7</th>\n",
       "      <th>V8</th>\n",
       "      <th>V9</th>\n",
       "      <th>V10</th>\n",
       "      <th>...</th>\n",
       "      <th>V31</th>\n",
       "      <th>V32</th>\n",
       "      <th>V33</th>\n",
       "      <th>V34</th>\n",
       "      <th>V35</th>\n",
       "      <th>V36</th>\n",
       "      <th>V37</th>\n",
       "      <th>V38</th>\n",
       "      <th>V39</th>\n",
       "      <th>V40</th>\n",
       "    </tr>\n",
       "  </thead>\n",
       "  <tbody>\n",
       "    <tr>\n",
       "      <th>0</th>\n",
       "      <td>-1.223</td>\n",
       "      <td>-0.798</td>\n",
       "      <td>-0.867</td>\n",
       "      <td>-0.639</td>\n",
       "      <td>-0.545</td>\n",
       "      <td>-0.412</td>\n",
       "      <td>-0.795</td>\n",
       "      <td>-0.629</td>\n",
       "      <td>-0.547</td>\n",
       "      <td>-0.868</td>\n",
       "      <td>...</td>\n",
       "      <td>-1.223</td>\n",
       "      <td>-0.766</td>\n",
       "      <td>-0.555</td>\n",
       "      <td>-0.714</td>\n",
       "      <td>-0.545</td>\n",
       "      <td>-0.587</td>\n",
       "      <td>-0.871</td>\n",
       "      <td>-0.620</td>\n",
       "      <td>-0.568</td>\n",
       "      <td>-0.607</td>\n",
       "    </tr>\n",
       "    <tr>\n",
       "      <th>1</th>\n",
       "      <td>-1.410</td>\n",
       "      <td>-1.029</td>\n",
       "      <td>-1.013</td>\n",
       "      <td>-0.895</td>\n",
       "      <td>-0.762</td>\n",
       "      <td>-0.676</td>\n",
       "      <td>-1.043</td>\n",
       "      <td>-0.851</td>\n",
       "      <td>-0.775</td>\n",
       "      <td>-1.037</td>\n",
       "      <td>...</td>\n",
       "      <td>-1.410</td>\n",
       "      <td>-0.919</td>\n",
       "      <td>-0.770</td>\n",
       "      <td>-0.847</td>\n",
       "      <td>-0.663</td>\n",
       "      <td>-0.723</td>\n",
       "      <td>-1.013</td>\n",
       "      <td>-0.748</td>\n",
       "      <td>-0.698</td>\n",
       "      <td>-0.817</td>\n",
       "    </tr>\n",
       "    <tr>\n",
       "      <th>2</th>\n",
       "      <td>-1.107</td>\n",
       "      <td>-0.649</td>\n",
       "      <td>-0.629</td>\n",
       "      <td>-0.492</td>\n",
       "      <td>-0.367</td>\n",
       "      <td>-0.298</td>\n",
       "      <td>-0.682</td>\n",
       "      <td>-0.478</td>\n",
       "      <td>-0.395</td>\n",
       "      <td>-0.681</td>\n",
       "      <td>...</td>\n",
       "      <td>-1.107</td>\n",
       "      <td>-0.692</td>\n",
       "      <td>-0.445</td>\n",
       "      <td>-0.588</td>\n",
       "      <td>-0.371</td>\n",
       "      <td>-0.368</td>\n",
       "      <td>-0.746</td>\n",
       "      <td>-0.457</td>\n",
       "      <td>-0.379</td>\n",
       "      <td>-0.469</td>\n",
       "    </tr>\n",
       "    <tr>\n",
       "      <th>3</th>\n",
       "      <td>-1.270</td>\n",
       "      <td>-0.855</td>\n",
       "      <td>-0.958</td>\n",
       "      <td>-0.707</td>\n",
       "      <td>-0.619</td>\n",
       "      <td>-0.469</td>\n",
       "      <td>-0.872</td>\n",
       "      <td>-0.705</td>\n",
       "      <td>-0.620</td>\n",
       "      <td>-0.988</td>\n",
       "      <td>...</td>\n",
       "      <td>-1.270</td>\n",
       "      <td>-0.829</td>\n",
       "      <td>-0.719</td>\n",
       "      <td>-0.774</td>\n",
       "      <td>-0.617</td>\n",
       "      <td>-0.688</td>\n",
       "      <td>-0.937</td>\n",
       "      <td>-0.693</td>\n",
       "      <td>-0.657</td>\n",
       "      <td>-0.779</td>\n",
       "    </tr>\n",
       "    <tr>\n",
       "      <th>4</th>\n",
       "      <td>-1.331</td>\n",
       "      <td>-0.862</td>\n",
       "      <td>-0.761</td>\n",
       "      <td>-0.689</td>\n",
       "      <td>-0.498</td>\n",
       "      <td>-0.361</td>\n",
       "      <td>-0.857</td>\n",
       "      <td>-0.600</td>\n",
       "      <td>-0.496</td>\n",
       "      <td>-0.779</td>\n",
       "      <td>...</td>\n",
       "      <td>-1.331</td>\n",
       "      <td>-0.861</td>\n",
       "      <td>-0.571</td>\n",
       "      <td>-0.784</td>\n",
       "      <td>-0.545</td>\n",
       "      <td>-0.562</td>\n",
       "      <td>-0.952</td>\n",
       "      <td>-0.642</td>\n",
       "      <td>-0.578</td>\n",
       "      <td>-0.648</td>\n",
       "    </tr>\n",
       "    <tr>\n",
       "      <th>...</th>\n",
       "      <td>...</td>\n",
       "      <td>...</td>\n",
       "      <td>...</td>\n",
       "      <td>...</td>\n",
       "      <td>...</td>\n",
       "      <td>...</td>\n",
       "      <td>...</td>\n",
       "      <td>...</td>\n",
       "      <td>...</td>\n",
       "      <td>...</td>\n",
       "      <td>...</td>\n",
       "      <td>...</td>\n",
       "      <td>...</td>\n",
       "      <td>...</td>\n",
       "      <td>...</td>\n",
       "      <td>...</td>\n",
       "      <td>...</td>\n",
       "      <td>...</td>\n",
       "      <td>...</td>\n",
       "      <td>...</td>\n",
       "      <td>...</td>\n",
       "    </tr>\n",
       "    <tr>\n",
       "      <th>5495</th>\n",
       "      <td>-0.775</td>\n",
       "      <td>-0.355</td>\n",
       "      <td>-0.556</td>\n",
       "      <td>-0.172</td>\n",
       "      <td>-0.212</td>\n",
       "      <td>-0.148</td>\n",
       "      <td>-0.419</td>\n",
       "      <td>-0.343</td>\n",
       "      <td>-0.218</td>\n",
       "      <td>-0.623</td>\n",
       "      <td>...</td>\n",
       "      <td>-0.775</td>\n",
       "      <td>-0.503</td>\n",
       "      <td>-0.353</td>\n",
       "      <td>-0.546</td>\n",
       "      <td>-0.430</td>\n",
       "      <td>-0.581</td>\n",
       "      <td>-0.683</td>\n",
       "      <td>-0.503</td>\n",
       "      <td>-0.474</td>\n",
       "      <td>-0.481</td>\n",
       "    </tr>\n",
       "    <tr>\n",
       "      <th>5496</th>\n",
       "      <td>-1.166</td>\n",
       "      <td>-0.509</td>\n",
       "      <td>-0.354</td>\n",
       "      <td>-0.250</td>\n",
       "      <td>-0.047</td>\n",
       "      <td>-0.073</td>\n",
       "      <td>-0.515</td>\n",
       "      <td>-0.247</td>\n",
       "      <td>-0.177</td>\n",
       "      <td>-0.457</td>\n",
       "      <td>...</td>\n",
       "      <td>-1.166</td>\n",
       "      <td>-0.601</td>\n",
       "      <td>-0.328</td>\n",
       "      <td>-0.595</td>\n",
       "      <td>-0.379</td>\n",
       "      <td>-0.501</td>\n",
       "      <td>-0.750</td>\n",
       "      <td>-0.449</td>\n",
       "      <td>-0.389</td>\n",
       "      <td>-0.388</td>\n",
       "    </tr>\n",
       "    <tr>\n",
       "      <th>5497</th>\n",
       "      <td>-1.203</td>\n",
       "      <td>-0.452</td>\n",
       "      <td>-0.118</td>\n",
       "      <td>-0.243</td>\n",
       "      <td>-0.141</td>\n",
       "      <td>-0.074</td>\n",
       "      <td>-0.457</td>\n",
       "      <td>-0.183</td>\n",
       "      <td>-0.150</td>\n",
       "      <td>-0.218</td>\n",
       "      <td>...</td>\n",
       "      <td>-1.203</td>\n",
       "      <td>-0.574</td>\n",
       "      <td>-0.142</td>\n",
       "      <td>-0.595</td>\n",
       "      <td>-0.314</td>\n",
       "      <td>-0.417</td>\n",
       "      <td>-0.676</td>\n",
       "      <td>-0.327</td>\n",
       "      <td>-0.325</td>\n",
       "      <td>-0.151</td>\n",
       "    </tr>\n",
       "    <tr>\n",
       "      <th>5498</th>\n",
       "      <td>-1.107</td>\n",
       "      <td>-0.385</td>\n",
       "      <td>-0.550</td>\n",
       "      <td>-0.236</td>\n",
       "      <td>-0.174</td>\n",
       "      <td>-0.157</td>\n",
       "      <td>-0.538</td>\n",
       "      <td>-0.392</td>\n",
       "      <td>-0.261</td>\n",
       "      <td>-0.785</td>\n",
       "      <td>...</td>\n",
       "      <td>-1.107</td>\n",
       "      <td>-0.661</td>\n",
       "      <td>-0.624</td>\n",
       "      <td>-0.628</td>\n",
       "      <td>-0.519</td>\n",
       "      <td>-0.666</td>\n",
       "      <td>-0.694</td>\n",
       "      <td>-0.559</td>\n",
       "      <td>-0.478</td>\n",
       "      <td>-0.496</td>\n",
       "    </tr>\n",
       "    <tr>\n",
       "      <th>5499</th>\n",
       "      <td>-0.804</td>\n",
       "      <td>-0.231</td>\n",
       "      <td>-0.515</td>\n",
       "      <td>0.000</td>\n",
       "      <td>-0.039</td>\n",
       "      <td>0.022</td>\n",
       "      <td>-0.280</td>\n",
       "      <td>-0.255</td>\n",
       "      <td>-0.117</td>\n",
       "      <td>-0.608</td>\n",
       "      <td>...</td>\n",
       "      <td>-0.804</td>\n",
       "      <td>-0.424</td>\n",
       "      <td>-0.449</td>\n",
       "      <td>-0.491</td>\n",
       "      <td>-0.407</td>\n",
       "      <td>-0.607</td>\n",
       "      <td>-0.513</td>\n",
       "      <td>-0.395</td>\n",
       "      <td>-0.349</td>\n",
       "      <td>-0.351</td>\n",
       "    </tr>\n",
       "  </tbody>\n",
       "</table>\n",
       "<p>5500 rows × 40 columns</p>\n",
       "</div>"
      ],
      "text/plain": [
       "         V1     V2     V3     V4     V5     V6     V7     V8     V9    V10  \\\n",
       "0    -1.223 -0.798 -0.867 -0.639 -0.545 -0.412 -0.795 -0.629 -0.547 -0.868   \n",
       "1    -1.410 -1.029 -1.013 -0.895 -0.762 -0.676 -1.043 -0.851 -0.775 -1.037   \n",
       "2    -1.107 -0.649 -0.629 -0.492 -0.367 -0.298 -0.682 -0.478 -0.395 -0.681   \n",
       "3    -1.270 -0.855 -0.958 -0.707 -0.619 -0.469 -0.872 -0.705 -0.620 -0.988   \n",
       "4    -1.331 -0.862 -0.761 -0.689 -0.498 -0.361 -0.857 -0.600 -0.496 -0.779   \n",
       "...     ...    ...    ...    ...    ...    ...    ...    ...    ...    ...   \n",
       "5495 -0.775 -0.355 -0.556 -0.172 -0.212 -0.148 -0.419 -0.343 -0.218 -0.623   \n",
       "5496 -1.166 -0.509 -0.354 -0.250 -0.047 -0.073 -0.515 -0.247 -0.177 -0.457   \n",
       "5497 -1.203 -0.452 -0.118 -0.243 -0.141 -0.074 -0.457 -0.183 -0.150 -0.218   \n",
       "5498 -1.107 -0.385 -0.550 -0.236 -0.174 -0.157 -0.538 -0.392 -0.261 -0.785   \n",
       "5499 -0.804 -0.231 -0.515  0.000 -0.039  0.022 -0.280 -0.255 -0.117 -0.608   \n",
       "\n",
       "      ...    V31    V32    V33    V34    V35    V36    V37    V38    V39  \\\n",
       "0     ... -1.223 -0.766 -0.555 -0.714 -0.545 -0.587 -0.871 -0.620 -0.568   \n",
       "1     ... -1.410 -0.919 -0.770 -0.847 -0.663 -0.723 -1.013 -0.748 -0.698   \n",
       "2     ... -1.107 -0.692 -0.445 -0.588 -0.371 -0.368 -0.746 -0.457 -0.379   \n",
       "3     ... -1.270 -0.829 -0.719 -0.774 -0.617 -0.688 -0.937 -0.693 -0.657   \n",
       "4     ... -1.331 -0.861 -0.571 -0.784 -0.545 -0.562 -0.952 -0.642 -0.578   \n",
       "...   ...    ...    ...    ...    ...    ...    ...    ...    ...    ...   \n",
       "5495  ... -0.775 -0.503 -0.353 -0.546 -0.430 -0.581 -0.683 -0.503 -0.474   \n",
       "5496  ... -1.166 -0.601 -0.328 -0.595 -0.379 -0.501 -0.750 -0.449 -0.389   \n",
       "5497  ... -1.203 -0.574 -0.142 -0.595 -0.314 -0.417 -0.676 -0.327 -0.325   \n",
       "5498  ... -1.107 -0.661 -0.624 -0.628 -0.519 -0.666 -0.694 -0.559 -0.478   \n",
       "5499  ... -0.804 -0.424 -0.449 -0.491 -0.407 -0.607 -0.513 -0.395 -0.349   \n",
       "\n",
       "        V40  \n",
       "0    -0.607  \n",
       "1    -0.817  \n",
       "2    -0.469  \n",
       "3    -0.779  \n",
       "4    -0.648  \n",
       "...     ...  \n",
       "5495 -0.481  \n",
       "5496 -0.388  \n",
       "5497 -0.151  \n",
       "5498 -0.496  \n",
       "5499 -0.351  \n",
       "\n",
       "[5500 rows x 40 columns]"
      ]
     },
     "execution_count": 28,
     "metadata": {},
     "output_type": "execute_result"
    }
   ],
   "source": [
    "features = data.iloc[:, :-1]\n",
    "features"
   ]
  },
  {
   "cell_type": "code",
   "execution_count": 25,
   "metadata": {},
   "outputs": [
    {
     "data": {
      "text/plain": [
       "0       5\n",
       "1       5\n",
       "2       5\n",
       "3       5\n",
       "4       5\n",
       "       ..\n",
       "5495    4\n",
       "5496    4\n",
       "5497    4\n",
       "5498    4\n",
       "5499    4\n",
       "Name: Class, Length: 5500, dtype: int64"
      ]
     },
     "execution_count": 25,
     "metadata": {},
     "output_type": "execute_result"
    }
   ],
   "source": [
    "target = data.Class\n",
    "target"
   ]
  },
  {
   "cell_type": "code",
   "execution_count": 26,
   "metadata": {},
   "outputs": [
    {
     "data": {
      "text/plain": [
       "array([ 5,  6,  7, 11,  1,  9,  8, 10,  2,  3,  4])"
      ]
     },
     "execution_count": 26,
     "metadata": {},
     "output_type": "execute_result"
    }
   ],
   "source": [
    "target.unique()"
   ]
  },
  {
   "cell_type": "code",
   "execution_count": 27,
   "metadata": {},
   "outputs": [
    {
     "data": {
      "text/plain": [
       "<AxesSubplot:>"
      ]
     },
     "execution_count": 27,
     "metadata": {},
     "output_type": "execute_result"
    },
    {
     "data": {
      "image/png": "[encoded data removed]",
      "text/plain": [
       "<Figure size 640x480 with 1 Axes>"
      ]
     },
     "metadata": {},
     "output_type": "display_data"
    }
   ],
   "source": [
    "target.hist()"
   ]
  },
  {
   "attachments": {},
   "cell_type": "markdown",
   "metadata": {},
   "source": [
    "Podela podataka na trening i na test skup"
   ]
  },
  {
   "cell_type": "code",
   "execution_count": 29,
   "metadata": {},
   "outputs": [],
   "source": [
    "Y = data.Class\n",
    "X = data.drop('Class', axis=1)"
   ]
  },
  {
   "cell_type": "code",
   "execution_count": 14,
   "metadata": {},
   "outputs": [
    {
     "data": {
      "text/html": [
       "<div>\n",
       "<style scoped>\n",
       "    .dataframe tbody tr th:only-of-type {\n",
       "        vertical-align: middle;\n",
       "    }\n",
       "\n",
       "    .dataframe tbody tr th {\n",
       "        vertical-align: top;\n",
       "    }\n",
       "\n",
       "    .dataframe thead th {\n",
       "        text-align: right;\n",
       "    }\n",
       "</style>\n",
       "<table border=\"1\" class=\"dataframe\">\n",
       "  <thead>\n",
       "    <tr style=\"text-align: right;\">\n",
       "      <th></th>\n",
       "      <th>V1</th>\n",
       "      <th>V2</th>\n",
       "      <th>V3</th>\n",
       "      <th>V4</th>\n",
       "      <th>V5</th>\n",
       "      <th>V6</th>\n",
       "      <th>V7</th>\n",
       "      <th>V8</th>\n",
       "      <th>V9</th>\n",
       "      <th>V10</th>\n",
       "      <th>...</th>\n",
       "      <th>V31</th>\n",
       "      <th>V32</th>\n",
       "      <th>V33</th>\n",
       "      <th>V34</th>\n",
       "      <th>V35</th>\n",
       "      <th>V36</th>\n",
       "      <th>V37</th>\n",
       "      <th>V38</th>\n",
       "      <th>V39</th>\n",
       "      <th>V40</th>\n",
       "    </tr>\n",
       "  </thead>\n",
       "  <tbody>\n",
       "    <tr>\n",
       "      <th>0</th>\n",
       "      <td>-1.223</td>\n",
       "      <td>-0.798</td>\n",
       "      <td>-0.867</td>\n",
       "      <td>-0.639</td>\n",
       "      <td>-0.545</td>\n",
       "      <td>-0.412</td>\n",
       "      <td>-0.795</td>\n",
       "      <td>-0.629</td>\n",
       "      <td>-0.547</td>\n",
       "      <td>-0.868</td>\n",
       "      <td>...</td>\n",
       "      <td>-1.223</td>\n",
       "      <td>-0.766</td>\n",
       "      <td>-0.555</td>\n",
       "      <td>-0.714</td>\n",
       "      <td>-0.545</td>\n",
       "      <td>-0.587</td>\n",
       "      <td>-0.871</td>\n",
       "      <td>-0.620</td>\n",
       "      <td>-0.568</td>\n",
       "      <td>-0.607</td>\n",
       "    </tr>\n",
       "    <tr>\n",
       "      <th>1</th>\n",
       "      <td>-1.410</td>\n",
       "      <td>-1.029</td>\n",
       "      <td>-1.013</td>\n",
       "      <td>-0.895</td>\n",
       "      <td>-0.762</td>\n",
       "      <td>-0.676</td>\n",
       "      <td>-1.043</td>\n",
       "      <td>-0.851</td>\n",
       "      <td>-0.775</td>\n",
       "      <td>-1.037</td>\n",
       "      <td>...</td>\n",
       "      <td>-1.410</td>\n",
       "      <td>-0.919</td>\n",
       "      <td>-0.770</td>\n",
       "      <td>-0.847</td>\n",
       "      <td>-0.663</td>\n",
       "      <td>-0.723</td>\n",
       "      <td>-1.013</td>\n",
       "      <td>-0.748</td>\n",
       "      <td>-0.698</td>\n",
       "      <td>-0.817</td>\n",
       "    </tr>\n",
       "    <tr>\n",
       "      <th>2</th>\n",
       "      <td>-1.107</td>\n",
       "      <td>-0.649</td>\n",
       "      <td>-0.629</td>\n",
       "      <td>-0.492</td>\n",
       "      <td>-0.367</td>\n",
       "      <td>-0.298</td>\n",
       "      <td>-0.682</td>\n",
       "      <td>-0.478</td>\n",
       "      <td>-0.395</td>\n",
       "      <td>-0.681</td>\n",
       "      <td>...</td>\n",
       "      <td>-1.107</td>\n",
       "      <td>-0.692</td>\n",
       "      <td>-0.445</td>\n",
       "      <td>-0.588</td>\n",
       "      <td>-0.371</td>\n",
       "      <td>-0.368</td>\n",
       "      <td>-0.746</td>\n",
       "      <td>-0.457</td>\n",
       "      <td>-0.379</td>\n",
       "      <td>-0.469</td>\n",
       "    </tr>\n",
       "    <tr>\n",
       "      <th>3</th>\n",
       "      <td>-1.270</td>\n",
       "      <td>-0.855</td>\n",
       "      <td>-0.958</td>\n",
       "      <td>-0.707</td>\n",
       "      <td>-0.619</td>\n",
       "      <td>-0.469</td>\n",
       "      <td>-0.872</td>\n",
       "      <td>-0.705</td>\n",
       "      <td>-0.620</td>\n",
       "      <td>-0.988</td>\n",
       "      <td>...</td>\n",
       "      <td>-1.270</td>\n",
       "      <td>-0.829</td>\n",
       "      <td>-0.719</td>\n",
       "      <td>-0.774</td>\n",
       "      <td>-0.617</td>\n",
       "      <td>-0.688</td>\n",
       "      <td>-0.937</td>\n",
       "      <td>-0.693</td>\n",
       "      <td>-0.657</td>\n",
       "      <td>-0.779</td>\n",
       "    </tr>\n",
       "    <tr>\n",
       "      <th>4</th>\n",
       "      <td>-1.331</td>\n",
       "      <td>-0.862</td>\n",
       "      <td>-0.761</td>\n",
       "      <td>-0.689</td>\n",
       "      <td>-0.498</td>\n",
       "      <td>-0.361</td>\n",
       "      <td>-0.857</td>\n",
       "      <td>-0.600</td>\n",
       "      <td>-0.496</td>\n",
       "      <td>-0.779</td>\n",
       "      <td>...</td>\n",
       "      <td>-1.331</td>\n",
       "      <td>-0.861</td>\n",
       "      <td>-0.571</td>\n",
       "      <td>-0.784</td>\n",
       "      <td>-0.545</td>\n",
       "      <td>-0.562</td>\n",
       "      <td>-0.952</td>\n",
       "      <td>-0.642</td>\n",
       "      <td>-0.578</td>\n",
       "      <td>-0.648</td>\n",
       "    </tr>\n",
       "    <tr>\n",
       "      <th>...</th>\n",
       "      <td>...</td>\n",
       "      <td>...</td>\n",
       "      <td>...</td>\n",
       "      <td>...</td>\n",
       "      <td>...</td>\n",
       "      <td>...</td>\n",
       "      <td>...</td>\n",
       "      <td>...</td>\n",
       "      <td>...</td>\n",
       "      <td>...</td>\n",
       "      <td>...</td>\n",
       "      <td>...</td>\n",
       "      <td>...</td>\n",
       "      <td>...</td>\n",
       "      <td>...</td>\n",
       "      <td>...</td>\n",
       "      <td>...</td>\n",
       "      <td>...</td>\n",
       "      <td>...</td>\n",
       "      <td>...</td>\n",
       "      <td>...</td>\n",
       "    </tr>\n",
       "    <tr>\n",
       "      <th>5495</th>\n",
       "      <td>-0.775</td>\n",
       "      <td>-0.355</td>\n",
       "      <td>-0.556</td>\n",
       "      <td>-0.172</td>\n",
       "      <td>-0.212</td>\n",
       "      <td>-0.148</td>\n",
       "      <td>-0.419</td>\n",
       "      <td>-0.343</td>\n",
       "      <td>-0.218</td>\n",
       "      <td>-0.623</td>\n",
       "      <td>...</td>\n",
       "      <td>-0.775</td>\n",
       "      <td>-0.503</td>\n",
       "      <td>-0.353</td>\n",
       "      <td>-0.546</td>\n",
       "      <td>-0.430</td>\n",
       "      <td>-0.581</td>\n",
       "      <td>-0.683</td>\n",
       "      <td>-0.503</td>\n",
       "      <td>-0.474</td>\n",
       "      <td>-0.481</td>\n",
       "    </tr>\n",
       "    <tr>\n",
       "      <th>5496</th>\n",
       "      <td>-1.166</td>\n",
       "      <td>-0.509</td>\n",
       "      <td>-0.354</td>\n",
       "      <td>-0.250</td>\n",
       "      <td>-0.047</td>\n",
       "      <td>-0.073</td>\n",
       "      <td>-0.515</td>\n",
       "      <td>-0.247</td>\n",
       "      <td>-0.177</td>\n",
       "      <td>-0.457</td>\n",
       "      <td>...</td>\n",
       "      <td>-1.166</td>\n",
       "      <td>-0.601</td>\n",
       "      <td>-0.328</td>\n",
       "      <td>-0.595</td>\n",
       "      <td>-0.379</td>\n",
       "      <td>-0.501</td>\n",
       "      <td>-0.750</td>\n",
       "      <td>-0.449</td>\n",
       "      <td>-0.389</td>\n",
       "      <td>-0.388</td>\n",
       "    </tr>\n",
       "    <tr>\n",
       "      <th>5497</th>\n",
       "      <td>-1.203</td>\n",
       "      <td>-0.452</td>\n",
       "      <td>-0.118</td>\n",
       "      <td>-0.243</td>\n",
       "      <td>-0.141</td>\n",
       "      <td>-0.074</td>\n",
       "      <td>-0.457</td>\n",
       "      <td>-0.183</td>\n",
       "      <td>-0.150</td>\n",
       "      <td>-0.218</td>\n",
       "      <td>...</td>\n",
       "      <td>-1.203</td>\n",
       "      <td>-0.574</td>\n",
       "      <td>-0.142</td>\n",
       "      <td>-0.595</td>\n",
       "      <td>-0.314</td>\n",
       "      <td>-0.417</td>\n",
       "      <td>-0.676</td>\n",
       "      <td>-0.327</td>\n",
       "      <td>-0.325</td>\n",
       "      <td>-0.151</td>\n",
       "    </tr>\n",
       "    <tr>\n",
       "      <th>5498</th>\n",
       "      <td>-1.107</td>\n",
       "      <td>-0.385</td>\n",
       "      <td>-0.550</td>\n",
       "      <td>-0.236</td>\n",
       "      <td>-0.174</td>\n",
       "      <td>-0.157</td>\n",
       "      <td>-0.538</td>\n",
       "      <td>-0.392</td>\n",
       "      <td>-0.261</td>\n",
       "      <td>-0.785</td>\n",
       "      <td>...</td>\n",
       "      <td>-1.107</td>\n",
       "      <td>-0.661</td>\n",
       "      <td>-0.624</td>\n",
       "      <td>-0.628</td>\n",
       "      <td>-0.519</td>\n",
       "      <td>-0.666</td>\n",
       "      <td>-0.694</td>\n",
       "      <td>-0.559</td>\n",
       "      <td>-0.478</td>\n",
       "      <td>-0.496</td>\n",
       "    </tr>\n",
       "    <tr>\n",
       "      <th>5499</th>\n",
       "      <td>-0.804</td>\n",
       "      <td>-0.231</td>\n",
       "      <td>-0.515</td>\n",
       "      <td>0.000</td>\n",
       "      <td>-0.039</td>\n",
       "      <td>0.022</td>\n",
       "      <td>-0.280</td>\n",
       "      <td>-0.255</td>\n",
       "      <td>-0.117</td>\n",
       "      <td>-0.608</td>\n",
       "      <td>...</td>\n",
       "      <td>-0.804</td>\n",
       "      <td>-0.424</td>\n",
       "      <td>-0.449</td>\n",
       "      <td>-0.491</td>\n",
       "      <td>-0.407</td>\n",
       "      <td>-0.607</td>\n",
       "      <td>-0.513</td>\n",
       "      <td>-0.395</td>\n",
       "      <td>-0.349</td>\n",
       "      <td>-0.351</td>\n",
       "    </tr>\n",
       "  </tbody>\n",
       "</table>\n",
       "<p>5500 rows × 40 columns</p>\n",
       "</div>"
      ],
      "text/plain": [
       "         V1     V2     V3     V4     V5     V6     V7     V8     V9    V10  \\\n",
       "0    -1.223 -0.798 -0.867 -0.639 -0.545 -0.412 -0.795 -0.629 -0.547 -0.868   \n",
       "1    -1.410 -1.029 -1.013 -0.895 -0.762 -0.676 -1.043 -0.851 -0.775 -1.037   \n",
       "2    -1.107 -0.649 -0.629 -0.492 -0.367 -0.298 -0.682 -0.478 -0.395 -0.681   \n",
       "3    -1.270 -0.855 -0.958 -0.707 -0.619 -0.469 -0.872 -0.705 -0.620 -0.988   \n",
       "4    -1.331 -0.862 -0.761 -0.689 -0.498 -0.361 -0.857 -0.600 -0.496 -0.779   \n",
       "...     ...    ...    ...    ...    ...    ...    ...    ...    ...    ...   \n",
       "5495 -0.775 -0.355 -0.556 -0.172 -0.212 -0.148 -0.419 -0.343 -0.218 -0.623   \n",
       "5496 -1.166 -0.509 -0.354 -0.250 -0.047 -0.073 -0.515 -0.247 -0.177 -0.457   \n",
       "5497 -1.203 -0.452 -0.118 -0.243 -0.141 -0.074 -0.457 -0.183 -0.150 -0.218   \n",
       "5498 -1.107 -0.385 -0.550 -0.236 -0.174 -0.157 -0.538 -0.392 -0.261 -0.785   \n",
       "5499 -0.804 -0.231 -0.515  0.000 -0.039  0.022 -0.280 -0.255 -0.117 -0.608   \n",
       "\n",
       "      ...    V31    V32    V33    V34    V35    V36    V37    V38    V39  \\\n",
       "0     ... -1.223 -0.766 -0.555 -0.714 -0.545 -0.587 -0.871 -0.620 -0.568   \n",
       "1     ... -1.410 -0.919 -0.770 -0.847 -0.663 -0.723 -1.013 -0.748 -0.698   \n",
       "2     ... -1.107 -0.692 -0.445 -0.588 -0.371 -0.368 -0.746 -0.457 -0.379   \n",
       "3     ... -1.270 -0.829 -0.719 -0.774 -0.617 -0.688 -0.937 -0.693 -0.657   \n",
       "4     ... -1.331 -0.861 -0.571 -0.784 -0.545 -0.562 -0.952 -0.642 -0.578   \n",
       "...   ...    ...    ...    ...    ...    ...    ...    ...    ...    ...   \n",
       "5495  ... -0.775 -0.503 -0.353 -0.546 -0.430 -0.581 -0.683 -0.503 -0.474   \n",
       "5496  ... -1.166 -0.601 -0.328 -0.595 -0.379 -0.501 -0.750 -0.449 -0.389   \n",
       "5497  ... -1.203 -0.574 -0.142 -0.595 -0.314 -0.417 -0.676 -0.327 -0.325   \n",
       "5498  ... -1.107 -0.661 -0.624 -0.628 -0.519 -0.666 -0.694 -0.559 -0.478   \n",
       "5499  ... -0.804 -0.424 -0.449 -0.491 -0.407 -0.607 -0.513 -0.395 -0.349   \n",
       "\n",
       "        V40  \n",
       "0    -0.607  \n",
       "1    -0.817  \n",
       "2    -0.469  \n",
       "3    -0.779  \n",
       "4    -0.648  \n",
       "...     ...  \n",
       "5495 -0.481  \n",
       "5496 -0.388  \n",
       "5497 -0.151  \n",
       "5498 -0.496  \n",
       "5499 -0.351  \n",
       "\n",
       "[5500 rows x 40 columns]"
      ]
     },
     "execution_count": 14,
     "metadata": {},
     "output_type": "execute_result"
    }
   ],
   "source": [
    "X"
   ]
  },
  {
   "cell_type": "code",
   "execution_count": 30,
   "metadata": {},
   "outputs": [
    {
     "data": {
      "text/plain": [
       "0       5\n",
       "1       5\n",
       "2       5\n",
       "3       5\n",
       "4       5\n",
       "       ..\n",
       "5495    4\n",
       "5496    4\n",
       "5497    4\n",
       "5498    4\n",
       "5499    4\n",
       "Name: Class, Length: 5500, dtype: int64"
      ]
     },
     "execution_count": 30,
     "metadata": {},
     "output_type": "execute_result"
    }
   ],
   "source": [
    "Y"
   ]
  },
  {
   "cell_type": "code",
   "execution_count": 16,
   "metadata": {},
   "outputs": [],
   "source": [
    "x_train, x_test, y_train, y_test = train_test_split(features, target, test_size=0.3, random_state=12, stratify=target)"
   ]
  },
  {
   "cell_type": "code",
   "execution_count": 17,
   "metadata": {},
   "outputs": [
    {
     "data": {
      "text/plain": [
       "DecisionTreeClassifier()"
      ]
     },
     "execution_count": 17,
     "metadata": {},
     "output_type": "execute_result"
    }
   ],
   "source": [
    "model = DecisionTreeClassifier()\n",
    "model.fit(x_train, y_train)"
   ]
  },
  {
   "attachments": {},
   "cell_type": "markdown",
   "metadata": {},
   "source": [
    "Klase koje je model predvideo:"
   ]
  },
  {
   "cell_type": "code",
   "execution_count": 18,
   "metadata": {},
   "outputs": [],
   "source": [
    "y_pred_train = model.predict(x_train)\n",
    "y_pred_test = model.predict(x_train)"
   ]
  },
  {
   "attachments": {},
   "cell_type": "markdown",
   "metadata": {},
   "source": [
    "# Matrica konfuzije:"
   ]
  },
  {
   "cell_type": "code",
   "execution_count": 19,
   "metadata": {},
   "outputs": [
    {
     "ename": "NameError",
     "evalue": "name 'y' is not defined",
     "output_type": "error",
     "traceback": [
      "\u001b[0;31m---------------------------------------------------------------------------\u001b[0m",
      "\u001b[0;31mNameError\u001b[0m                                 Traceback (most recent call last)",
      "\u001b[0;32m/tmp/ipykernel_98869/1439280224.py\u001b[0m in \u001b[0;36m<module>\u001b[0;34m\u001b[0m\n\u001b[0;32m----> 1\u001b[0;31m \u001b[0mconfusion_matrix\u001b[0m\u001b[0;34m(\u001b[0m\u001b[0my\u001b[0m\u001b[0;34m)\u001b[0m\u001b[0;34m\u001b[0m\u001b[0;34m\u001b[0m\u001b[0m\n\u001b[0m",
      "\u001b[0;31mNameError\u001b[0m: name 'y' is not defined"
     ]
    }
   ],
   "source": [
    "confusion_matrix(y)"
   ]
  },
  {
   "cell_type": "code",
   "execution_count": null,
   "metadata": {},
   "outputs": [
    {
     "name": "stdout",
     "output_type": "stream",
     "text": [
      "              precision    recall  f1-score   support\n",
      "\n",
      "           1       0.97      0.97      0.97       500\n",
      "           2       1.00      1.00      1.00       500\n",
      "           3       1.00      1.00      1.00       500\n",
      "           4       0.98      0.97      0.97       500\n",
      "           5       0.97      0.96      0.96       500\n",
      "           6       0.99      0.98      0.98       500\n",
      "           7       0.99      1.00      0.99       500\n",
      "           8       0.99      0.99      0.99       500\n",
      "           9       1.00      1.00      1.00       500\n",
      "          10       0.95      0.97      0.96       500\n",
      "          11       0.97      0.95      0.96       500\n",
      "\n",
      "    accuracy                           0.98      5500\n",
      "   macro avg       0.98      0.98      0.98      5500\n",
      "weighted avg       0.98      0.98      0.98      5500\n",
      "\n"
     ]
    }
   ],
   "source": [
    "y_pred = model.predict(X)\n",
    "print(classification_report(target, y_pred))"
   ]
  },
  {
   "cell_type": "code",
   "execution_count": null,
   "metadata": {},
   "outputs": [
    {
     "data": {
      "text/plain": [
       "1.0"
      ]
     },
     "execution_count": 42,
     "metadata": {},
     "output_type": "execute_result"
    }
   ],
   "source": [
    "from sklearn.metrics import accuracy_score\n",
    "\n",
    "\n",
    "accuracy_score(y_train, y_pred_train)"
   ]
  },
  {
   "cell_type": "code",
   "execution_count": null,
   "metadata": {},
   "outputs": [],
   "source": []
  }
 ],
 "metadata": {
  "kernelspec": {
   "display_name": "base",
   "language": "python",
   "name": "python3"
  },
  "language_info": {
   "codemirror_mode": {
    "name": "ipython",
    "version": 3
   },
   "file_extension": ".py",
   "mimetype": "text/x-python",
   "name": "python",
   "nbconvert_exporter": "python",
   "pygments_lexer": "ipython3",
   "version": "3.9.13"
  },
  "orig_nbformat": 4
 },
 "nbformat": 4,
 "nbformat_minor": 2
}
