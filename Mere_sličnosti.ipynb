{
  "nbformat": 4,
  "nbformat_minor": 0,
  "metadata": {
    "colab": {
      "provenance": [],
      "include_colab_link": true
    },
    "kernelspec": {
      "name": "python3",
      "display_name": "Python 3"
    },
    "language_info": {
      "name": "python"
    }
  },
  "cells": [
    {
      "cell_type": "markdown",
      "metadata": {
        "id": "view-in-github",
        "colab_type": "text"
      },
      "source": [
        "<a href=\"https://colab.research.google.com/github/natasablagojevic/ip1/blob/main/Mere_sli%C4%8Dnosti.ipynb\" target=\"_parent\"><img src=\"https://colab.research.google.com/assets/colab-badge.svg\" alt=\"Open In Colab\"/></a>"
      ]
    },
    {
      "cell_type": "markdown",
      "source": [
        "# Bliskost-sličnost i različitost\n",
        "\n",
        "1. **Sličnost**\n",
        " * Numerička mera koliko su dva objekta slična\n",
        " * Što dva objekta više liče jedan na drugi sličnost im je veca\n",
        " * Često se meri vrednostima u intervalu [0, 1]\n",
        "  \n",
        "  Kada koristimo?:\n",
        "  - Pronalazak grešaka u podacima (nastalih npr. greškom u kucanju)\n",
        "  - Pronalazak grupa koje su jako slične (klasteri)\n",
        "\n",
        "2. **Različitost**\n",
        " * Numerička mera koliko su dva objekta različita\n",
        " * Što dva objekta više liče jedan na drugi različitost im je manja\n",
        " * Najmanja različitost je često 0; gornja granica varira\n",
        " * Kao sinonim koristi se i termin rastojanje\n",
        " \n",
        " Kada koristimo?\n",
        "  - outlajere\n",
        "  - izuzetke\n",
        "  - granice klastera\n",
        "\n",
        "3. **Blizina** (eng. proximity) označava ili sličnost ili različitost"
      ],
      "metadata": {
        "id": "AOIy2nqkx-Zk"
      }
    },
    {
      "cell_type": "code",
      "source": [
        "from matplotlib import pyplot as plt"
      ],
      "metadata": {
        "id": "ks-TJ7EV7TfR"
      },
      "execution_count": null,
      "outputs": []
    },
    {
      "cell_type": "markdown",
      "source": [
        "### Mera sličnosti za nominalne atribute\n",
        "\n",
        "$s(p, q) = \\left\\{ \n",
        "  \\begin{array}{ c l }\n",
        "    1 & \\quad \\textrm{ako } p = q \\\\\n",
        "    0                 & \\quad \\textrm{inače}\n",
        "  \\end{array}\n",
        "\\right.$"
      ],
      "metadata": {
        "id": "4X7aAGNNujqM"
      }
    },
    {
      "cell_type": "code",
      "source": [
        "def similarity_nominal(p, q): \n",
        "    # CODE HERE\n",
        "    return int(p == q)"
      ],
      "metadata": {
        "id": "p1WTEI0vusAs"
      },
      "execution_count": null,
      "outputs": []
    },
    {
      "cell_type": "code",
      "source": [
        "similarity_nominal(\"Petar\", \"Jovan\") # izlaz: 0"
      ],
      "metadata": {
        "colab": {
          "base_uri": "https://localhost:8080/"
        },
        "id": "0DHNoNwZgEeQ",
        "outputId": "ee0c2885-1e79-4c44-918c-fc6b0baf85df"
      },
      "execution_count": null,
      "outputs": [
        {
          "output_type": "execute_result",
          "data": {
            "text/plain": [
              "0"
            ]
          },
          "metadata": {},
          "execution_count": 2
        }
      ]
    },
    {
      "cell_type": "code",
      "source": [
        "similarity_nominal(\"Petar\", \"Petar\") # izlaz: 1"
      ],
      "metadata": {
        "id": "betAlzy1gQRS"
      },
      "execution_count": null,
      "outputs": []
    },
    {
      "cell_type": "markdown",
      "source": [
        "## Mera različitosti za nominalne atribute\n",
        "\n",
        "$d(p, q) = \\left\\{ \n",
        "  \\begin{array}{ c l }\n",
        "    0 & \\quad \\textrm{ako } p = q \\\\\n",
        "    1                 & \\quad \\textrm{inače}\n",
        "  \\end{array}\n",
        "\\right.$"
      ],
      "metadata": {
        "id": "3Fz05e2Whh73"
      }
    },
    {
      "cell_type": "code",
      "source": [
        "def dissimilarity_nominal(p, q):\n",
        "  return int(p != q)\n",
        "  # CODE HERE"
      ],
      "metadata": {
        "id": "aMnNFIvdhqFH"
      },
      "execution_count": null,
      "outputs": []
    },
    {
      "cell_type": "code",
      "source": [
        "dissimilarity_nominal(\"Petar\", \"Jovan\") # izlaz: 1"
      ],
      "metadata": {
        "id": "G5xzholChqU-",
        "colab": {
          "base_uri": "https://localhost:8080/"
        },
        "outputId": "12d48668-33e6-4938-a61b-64d65a3a73b2"
      },
      "execution_count": null,
      "outputs": [
        {
          "output_type": "execute_result",
          "data": {
            "text/plain": [
              "1"
            ]
          },
          "metadata": {},
          "execution_count": 4
        }
      ]
    },
    {
      "cell_type": "code",
      "source": [
        "dissimilarity_nominal(\"Petar\", \"Petar\") # izlaz: 0"
      ],
      "metadata": {
        "id": "qamp5OmKhucP",
        "colab": {
          "base_uri": "https://localhost:8080/"
        },
        "outputId": "fe4bc362-8b44-4128-b8c1-53b95f7d43cb"
      },
      "execution_count": null,
      "outputs": [
        {
          "output_type": "execute_result",
          "data": {
            "text/plain": [
              "0"
            ]
          },
          "metadata": {},
          "execution_count": 5
        }
      ]
    },
    {
      "cell_type": "markdown",
      "source": [
        "## Mera različitosti za ordinalne atribute\n",
        "\n",
        "$\n",
        "d(p, q) = \\frac{|p'-q'|}{n-1}\n",
        "$\n",
        "\n",
        "Vrednost p i q slikaju u cele brojeve od 0 do n - 1, gde je n broj mogućih vrednosti \n"
      ],
      "metadata": {
        "id": "ZUALVSh3wfaU"
      }
    },
    {
      "cell_type": "code",
      "source": [
        "import pandas as pd\n",
        "\n",
        "def dissimilarity_ordinal(p, q, values):\n",
        "    # CODE HERE\n",
        "    n = len(values)\n",
        "    v = pd.Series(range(n), values)\n",
        "\n",
        "\n",
        "\n",
        "    return  (abs(v[p] - v[q])/(n-1))"
      ],
      "metadata": {
        "id": "JR2tTRFjwTdO"
      },
      "execution_count": null,
      "outputs": []
    },
    {
      "cell_type": "code",
      "source": [
        "dissimilarity_ordinal(\"M\", \"XL\", [\"S\", \"M\", \"L\", \"XL\"])  # izlaz: 0.6666666666666666"
      ],
      "metadata": {
        "id": "BI-CjnGGwXID",
        "colab": {
          "base_uri": "https://localhost:8080/"
        },
        "outputId": "dc1b083a-53b5-4027-a275-4ece097c79d4"
      },
      "execution_count": null,
      "outputs": [
        {
          "output_type": "execute_result",
          "data": {
            "text/plain": [
              "0.6666666666666666"
            ]
          },
          "metadata": {},
          "execution_count": 10
        }
      ]
    },
    {
      "cell_type": "code",
      "source": [
        "dissimilarity_ordinal(\"S\", \"XL\", [\"S\", \"M\", \"L\", \"XL\"])  # izlaz: 1.0"
      ],
      "metadata": {
        "id": "gE-ngpvUjHmh",
        "colab": {
          "base_uri": "https://localhost:8080/"
        },
        "outputId": "d6acf5b1-d3dc-41be-ce57-2236e955ce95"
      },
      "execution_count": null,
      "outputs": [
        {
          "output_type": "execute_result",
          "data": {
            "text/plain": [
              "1.0"
            ]
          },
          "metadata": {},
          "execution_count": 11
        }
      ]
    },
    {
      "cell_type": "markdown",
      "source": [
        "## Mera sličnosti za ordinalne atribute\n",
        "\n",
        "$\n",
        "s(p, q) = 1 - d(p, q)\n",
        "$"
      ],
      "metadata": {
        "id": "TB8eQ1U7pZmq"
      }
    },
    {
      "cell_type": "code",
      "source": [
        "import pandas as pd\n",
        "\n",
        "def similarity_ordinal(p, q, values):\n",
        "    # CODE HERE\n",
        "    return 1 - dissimilarity_ordinal(p, q, values)"
      ],
      "metadata": {
        "id": "kJfHK3qcpkBu"
      },
      "execution_count": null,
      "outputs": []
    },
    {
      "cell_type": "code",
      "source": [
        "similarity_ordinal(\"M\", \"XL\", [\"S\", \"M\", \"L\", \"XL\"])  # izlaz: 0.33333333333333337"
      ],
      "metadata": {
        "id": "0yKp5BQCpzGh",
        "colab": {
          "base_uri": "https://localhost:8080/"
        },
        "outputId": "f6f759cf-5a1c-4305-bae3-0c692372ca06"
      },
      "execution_count": null,
      "outputs": [
        {
          "output_type": "execute_result",
          "data": {
            "text/plain": [
              "0.33333333333333337"
            ]
          },
          "metadata": {},
          "execution_count": 15
        }
      ]
    },
    {
      "cell_type": "code",
      "source": [
        "similarity_ordinal(\"S\", \"XL\", [\"S\", \"M\", \"L\", \"XL\"])  # izlaz: 0.0"
      ],
      "metadata": {
        "id": "3wSh_Ff4p510",
        "colab": {
          "base_uri": "https://localhost:8080/"
        },
        "outputId": "78f1e5cf-0177-4b8b-a18a-58ace3ae3e21"
      },
      "execution_count": null,
      "outputs": [
        {
          "output_type": "execute_result",
          "data": {
            "text/plain": [
              "0.0"
            ]
          },
          "metadata": {},
          "execution_count": 16
        }
      ]
    },
    {
      "cell_type": "markdown",
      "source": [
        "## Mere različitosti za kvantitativne atribute\n",
        "\n",
        "$d(p, q) = |p-q| $"
      ],
      "metadata": {
        "id": "dS77xFSoyqpN"
      }
    },
    {
      "cell_type": "code",
      "source": [
        "def dissimilarity_quantity(p, q):\n",
        "    # CODE HERE\n",
        "    return abs(p-q)"
      ],
      "metadata": {
        "id": "zxkI0T37wZ6p"
      },
      "execution_count": null,
      "outputs": []
    },
    {
      "cell_type": "code",
      "source": [
        "import datetime\n",
        "dissimilarity_quantity(datetime.date(2020, 3, 25), datetime.date(2020, 7, 24))"
      ],
      "metadata": {
        "id": "aPPccxMlzDhM",
        "colab": {
          "base_uri": "https://localhost:8080/"
        },
        "outputId": "0d48079e-df0b-47d1-d094-5a6052a7259a"
      },
      "execution_count": null,
      "outputs": [
        {
          "output_type": "execute_result",
          "data": {
            "text/plain": [
              "datetime.timedelta(days=121)"
            ]
          },
          "metadata": {},
          "execution_count": 18
        }
      ]
    },
    {
      "cell_type": "markdown",
      "source": [
        "## Mere sličnosti - opcija 1\n",
        "\n",
        "$s(p, q) = -d(p, q)$"
      ],
      "metadata": {
        "id": "3AfikwFqruwK"
      }
    },
    {
      "cell_type": "code",
      "source": [
        "def similarity_quantity_1(p, q):\n",
        "    # CODE HERE\n",
        "    return -dissimilarity_quantity(p, q)"
      ],
      "metadata": {
        "id": "Pwm6r5J5sql-"
      },
      "execution_count": null,
      "outputs": []
    },
    {
      "cell_type": "code",
      "source": [
        "similarity_quantity_1(datetime.date(2020, 3, 25), datetime.date(2020, 7, 24))"
      ],
      "metadata": {
        "id": "EJq786s5sy00",
        "colab": {
          "base_uri": "https://localhost:8080/"
        },
        "outputId": "7454d32f-11ba-48b9-f603-0880b465dc06"
      },
      "execution_count": null,
      "outputs": [
        {
          "output_type": "execute_result",
          "data": {
            "text/plain": [
              "datetime.timedelta(days=-121)"
            ]
          },
          "metadata": {},
          "execution_count": 20
        }
      ]
    },
    {
      "cell_type": "markdown",
      "source": [
        "## Mere sličnosti - opcija 2\n",
        "\n",
        "$s(p, q) = \\frac{1}{1+d}$"
      ],
      "metadata": {
        "id": "Q_JIpd3Wt4WS"
      }
    },
    {
      "cell_type": "code",
      "source": [
        "def similarity_quantity_2(p, q):\n",
        "    # CODE HERE ???\n",
        "    return 1/int(1 + abs(p - q))"
      ],
      "metadata": {
        "id": "qnHjM6p_t-xs"
      },
      "execution_count": null,
      "outputs": []
    },
    {
      "cell_type": "code",
      "source": [
        "similarity_quantity_2(datetime.date(2020, 3, 25), datetime.date(2020, 7, 24)) # 0.00819672131147541"
      ],
      "metadata": {
        "colab": {
          "base_uri": "https://localhost:8080/",
          "height": 254
        },
        "id": "57WXcGCAuGyl",
        "outputId": "281714ac-80ce-4a2d-f12d-ed3a62c11d0b"
      },
      "execution_count": null,
      "outputs": [
        {
          "output_type": "error",
          "ename": "TypeError",
          "evalue": "ignored",
          "traceback": [
            "\u001b[0;31m---------------------------------------------------------------------------\u001b[0m",
            "\u001b[0;31mTypeError\u001b[0m                                 Traceback (most recent call last)",
            "\u001b[0;32m<ipython-input-34-89f7f4c20fb0>\u001b[0m in \u001b[0;36m<module>\u001b[0;34m\u001b[0m\n\u001b[0;32m----> 1\u001b[0;31m \u001b[0msimilarity_quantity_2\u001b[0m\u001b[0;34m(\u001b[0m\u001b[0mdatetime\u001b[0m\u001b[0;34m.\u001b[0m\u001b[0mdate\u001b[0m\u001b[0;34m(\u001b[0m\u001b[0;36m2020\u001b[0m\u001b[0;34m,\u001b[0m \u001b[0;36m3\u001b[0m\u001b[0;34m,\u001b[0m \u001b[0;36m25\u001b[0m\u001b[0;34m)\u001b[0m\u001b[0;34m,\u001b[0m \u001b[0mdatetime\u001b[0m\u001b[0;34m.\u001b[0m\u001b[0mdate\u001b[0m\u001b[0;34m(\u001b[0m\u001b[0;36m2020\u001b[0m\u001b[0;34m,\u001b[0m \u001b[0;36m7\u001b[0m\u001b[0;34m,\u001b[0m \u001b[0;36m24\u001b[0m\u001b[0;34m)\u001b[0m\u001b[0;34m)\u001b[0m \u001b[0;31m# 0.00819672131147541\u001b[0m\u001b[0;34m\u001b[0m\u001b[0;34m\u001b[0m\u001b[0m\n\u001b[0m",
            "\u001b[0;32m<ipython-input-33-bdb342276573>\u001b[0m in \u001b[0;36msimilarity_quantity_2\u001b[0;34m(p, q)\u001b[0m\n\u001b[1;32m      1\u001b[0m \u001b[0;32mdef\u001b[0m \u001b[0msimilarity_quantity_2\u001b[0m\u001b[0;34m(\u001b[0m\u001b[0mp\u001b[0m\u001b[0;34m,\u001b[0m \u001b[0mq\u001b[0m\u001b[0;34m)\u001b[0m\u001b[0;34m:\u001b[0m\u001b[0;34m\u001b[0m\u001b[0;34m\u001b[0m\u001b[0m\n\u001b[1;32m      2\u001b[0m     \u001b[0;31m# CODE HERE\u001b[0m\u001b[0;34m\u001b[0m\u001b[0;34m\u001b[0m\u001b[0;34m\u001b[0m\u001b[0m\n\u001b[0;32m----> 3\u001b[0;31m     \u001b[0;32mreturn\u001b[0m \u001b[0;36m1\u001b[0m\u001b[0;34m/\u001b[0m\u001b[0mint\u001b[0m\u001b[0;34m(\u001b[0m\u001b[0;36m1\u001b[0m \u001b[0;34m+\u001b[0m \u001b[0mabs\u001b[0m\u001b[0;34m(\u001b[0m\u001b[0mp\u001b[0m \u001b[0;34m-\u001b[0m \u001b[0mq\u001b[0m\u001b[0;34m)\u001b[0m\u001b[0;34m)\u001b[0m\u001b[0;34m\u001b[0m\u001b[0;34m\u001b[0m\u001b[0m\n\u001b[0m",
            "\u001b[0;31mTypeError\u001b[0m: unsupported operand type(s) for +: 'int' and 'datetime.timedelta'"
          ]
        }
      ]
    },
    {
      "cell_type": "markdown",
      "source": [
        "# Različitosti između objekata podataka"
      ],
      "metadata": {
        "id": "SM4JAc760OgX"
      }
    },
    {
      "cell_type": "markdown",
      "source": [
        "ime: PETAR, MILAN, JOVAN\n",
        "\n",
        "PETAR: 1/0\n",
        "MILAN: 1/0\n",
        "JOVAN: 1/0"
      ],
      "metadata": {
        "id": "5KDK3-pxFrFt"
      }
    },
    {
      "cell_type": "markdown",
      "source": [
        "\n",
        "### Rastojanje Minkovskog:\n",
        "$ mink(x, y) = (\\sum_{k=1}^{n}|x_k-y_k|^r)^\\frac{1}{r}$\n",
        "\n",
        " - r parametar\n",
        " - n broj dimenzija (atributa)\n",
        " - $x_k$ i $y_k$ su vrednosti k-tog atributa objekata x i y\n"
      ],
      "metadata": {
        "id": "NJ04pPKpxpNO"
      }
    },
    {
      "cell_type": "markdown",
      "source": [
        "Rastojanje Minkovskog\n",
        "\n",
        "* **r = 1** Menhetn (L1 norma) rastojanje\n",
        "    Hamingovo rastojanje\n",
        "* **r = 2** Euklidsko rastojanje\n",
        "\n",
        "* **r → ∞**  supremum (Lmax norma) rastojanje\n",
        "\n",
        "> Predstavlja maksimum razlike između odgovarajucih komponenti vektora\n",
        "\n",
        "\n"
      ],
      "metadata": {
        "id": "eBiaH_7x0oUm"
      }
    },
    {
      "cell_type": "code",
      "source": [
        "def minkowski(x, y, r):\n",
        "  if r <= 0:\n",
        "    raise ValueError\n",
        "  return (sum([abs(x[v] - y[v])**r for v in x.index])**(1/r))  "
      ],
      "metadata": {
        "id": "sm6WndpkItJN"
      },
      "execution_count": null,
      "outputs": []
    },
    {
      "cell_type": "markdown",
      "source": [
        "#### Zadatak 1:\n",
        "Posmatramo naredni skup tačaka:\n",
        "\n",
        "|point |x  | y|\n",
        "--- | --- | ---|\n",
        "|**p1**|0|2|\n",
        "|**p2**|2|0|\n",
        "|**p3**|3|1|\n",
        "|**p4**|5|1|\n",
        "\n",
        "Izračunati $L_1$, $L_2$, $L_{max}$ normu:"
      ],
      "metadata": {
        "id": "sKI51ckkDsNj"
      }
    },
    {
      "cell_type": "code",
      "source": [
        "points = pd.DataFrame([[0,2], [2, 0], [3, 1], [5, 1]], index=[\"p1\", \"p2\", \"p3\", \"p4\"], columns=[\"x\", \"y\"])\n",
        "points"
      ],
      "metadata": {
        "colab": {
          "base_uri": "https://localhost:8080/",
          "height": 175
        },
        "id": "MYDSyfwNDrZc",
        "outputId": "1654a7a3-cf90-401b-ce09-891160a86338"
      },
      "execution_count": null,
      "outputs": [
        {
          "output_type": "execute_result",
          "data": {
            "text/plain": [
              "    x  y\n",
              "p1  0  2\n",
              "p2  2  0\n",
              "p3  3  1\n",
              "p4  5  1"
            ],
            "text/html": [
              "\n",
              "  <div id=\"df-7c199c85-d8f3-4934-91ac-3c74e3769c24\">\n",
              "    <div class=\"colab-df-container\">\n",
              "      <div>\n",
              "<style scoped>\n",
              "    .dataframe tbody tr th:only-of-type {\n",
              "        vertical-align: middle;\n",
              "    }\n",
              "\n",
              "    .dataframe tbody tr th {\n",
              "        vertical-align: top;\n",
              "    }\n",
              "\n",
              "    .dataframe thead th {\n",
              "        text-align: right;\n",
              "    }\n",
              "</style>\n",
              "<table border=\"1\" class=\"dataframe\">\n",
              "  <thead>\n",
              "    <tr style=\"text-align: right;\">\n",
              "      <th></th>\n",
              "      <th>x</th>\n",
              "      <th>y</th>\n",
              "    </tr>\n",
              "  </thead>\n",
              "  <tbody>\n",
              "    <tr>\n",
              "      <th>p1</th>\n",
              "      <td>0</td>\n",
              "      <td>2</td>\n",
              "    </tr>\n",
              "    <tr>\n",
              "      <th>p2</th>\n",
              "      <td>2</td>\n",
              "      <td>0</td>\n",
              "    </tr>\n",
              "    <tr>\n",
              "      <th>p3</th>\n",
              "      <td>3</td>\n",
              "      <td>1</td>\n",
              "    </tr>\n",
              "    <tr>\n",
              "      <th>p4</th>\n",
              "      <td>5</td>\n",
              "      <td>1</td>\n",
              "    </tr>\n",
              "  </tbody>\n",
              "</table>\n",
              "</div>\n",
              "      <button class=\"colab-df-convert\" onclick=\"convertToInteractive('df-7c199c85-d8f3-4934-91ac-3c74e3769c24')\"\n",
              "              title=\"Convert this dataframe to an interactive table.\"\n",
              "              style=\"display:none;\">\n",
              "        \n",
              "  <svg xmlns=\"http://www.w3.org/2000/svg\" height=\"24px\"viewBox=\"0 0 24 24\"\n",
              "       width=\"24px\">\n",
              "    <path d=\"M0 0h24v24H0V0z\" fill=\"none\"/>\n",
              "    <path d=\"M18.56 5.44l.94 2.06.94-2.06 2.06-.94-2.06-.94-.94-2.06-.94 2.06-2.06.94zm-11 1L8.5 8.5l.94-2.06 2.06-.94-2.06-.94L8.5 2.5l-.94 2.06-2.06.94zm10 10l.94 2.06.94-2.06 2.06-.94-2.06-.94-.94-2.06-.94 2.06-2.06.94z\"/><path d=\"M17.41 7.96l-1.37-1.37c-.4-.4-.92-.59-1.43-.59-.52 0-1.04.2-1.43.59L10.3 9.45l-7.72 7.72c-.78.78-.78 2.05 0 2.83L4 21.41c.39.39.9.59 1.41.59.51 0 1.02-.2 1.41-.59l7.78-7.78 2.81-2.81c.8-.78.8-2.07 0-2.86zM5.41 20L4 18.59l7.72-7.72 1.47 1.35L5.41 20z\"/>\n",
              "  </svg>\n",
              "      </button>\n",
              "      \n",
              "  <style>\n",
              "    .colab-df-container {\n",
              "      display:flex;\n",
              "      flex-wrap:wrap;\n",
              "      gap: 12px;\n",
              "    }\n",
              "\n",
              "    .colab-df-convert {\n",
              "      background-color: #E8F0FE;\n",
              "      border: none;\n",
              "      border-radius: 50%;\n",
              "      cursor: pointer;\n",
              "      display: none;\n",
              "      fill: #1967D2;\n",
              "      height: 32px;\n",
              "      padding: 0 0 0 0;\n",
              "      width: 32px;\n",
              "    }\n",
              "\n",
              "    .colab-df-convert:hover {\n",
              "      background-color: #E2EBFA;\n",
              "      box-shadow: 0px 1px 2px rgba(60, 64, 67, 0.3), 0px 1px 3px 1px rgba(60, 64, 67, 0.15);\n",
              "      fill: #174EA6;\n",
              "    }\n",
              "\n",
              "    [theme=dark] .colab-df-convert {\n",
              "      background-color: #3B4455;\n",
              "      fill: #D2E3FC;\n",
              "    }\n",
              "\n",
              "    [theme=dark] .colab-df-convert:hover {\n",
              "      background-color: #434B5C;\n",
              "      box-shadow: 0px 1px 3px 1px rgba(0, 0, 0, 0.15);\n",
              "      filter: drop-shadow(0px 1px 2px rgba(0, 0, 0, 0.3));\n",
              "      fill: #FFFFFF;\n",
              "    }\n",
              "  </style>\n",
              "\n",
              "      <script>\n",
              "        const buttonEl =\n",
              "          document.querySelector('#df-7c199c85-d8f3-4934-91ac-3c74e3769c24 button.colab-df-convert');\n",
              "        buttonEl.style.display =\n",
              "          google.colab.kernel.accessAllowed ? 'block' : 'none';\n",
              "\n",
              "        async function convertToInteractive(key) {\n",
              "          const element = document.querySelector('#df-7c199c85-d8f3-4934-91ac-3c74e3769c24');\n",
              "          const dataTable =\n",
              "            await google.colab.kernel.invokeFunction('convertToInteractive',\n",
              "                                                     [key], {});\n",
              "          if (!dataTable) return;\n",
              "\n",
              "          const docLinkHtml = 'Like what you see? Visit the ' +\n",
              "            '<a target=\"_blank\" href=https://colab.research.google.com/notebooks/data_table.ipynb>data table notebook</a>'\n",
              "            + ' to learn more about interactive tables.';\n",
              "          element.innerHTML = '';\n",
              "          dataTable['output_type'] = 'display_data';\n",
              "          await google.colab.output.renderOutput(dataTable, element);\n",
              "          const docLink = document.createElement('div');\n",
              "          docLink.innerHTML = docLinkHtml;\n",
              "          element.appendChild(docLink);\n",
              "        }\n",
              "      </script>\n",
              "    </div>\n",
              "  </div>\n",
              "  "
            ]
          },
          "metadata": {},
          "execution_count": 37
        }
      ]
    },
    {
      "cell_type": "code",
      "source": [
        "points.plot.scatter(\"x\", \"y\")\n",
        "plt.title(\"Points\")\n"
      ],
      "metadata": {
        "id": "Pz3yYgIr03PX",
        "colab": {
          "base_uri": "https://localhost:8080/",
          "height": 312
        },
        "outputId": "90cdb256-19d3-403c-fd02-82a052745424"
      },
      "execution_count": null,
      "outputs": [
        {
          "output_type": "execute_result",
          "data": {
            "text/plain": [
              "Text(0.5, 1.0, 'Points')"
            ]
          },
          "metadata": {},
          "execution_count": 129
        },
        {
          "output_type": "display_data",
          "data": {
            "text/plain": [
              "<Figure size 432x288 with 1 Axes>"
            ],
            "image/png": "[encoded data removed]"
          },
          "metadata": {
            "needs_background": "light"
          }
        }
      ]
    },
    {
      "cell_type": "markdown",
      "source": [
        "a) Izračunati L1 normu: \n",
        "\n",
        "Očekivan izlaz:\n",
        "\n",
        "|$L_1$|p1| p2|p3|p4|\n",
        "--- | --- | ---| ---|---|\n",
        "|**p1**|0|4|4|6|\n",
        "|**p2**|4|0|2|4|\n",
        "|**p3**|4|2|0|2|\n",
        "|**p4**|6|4|2|0|"
      ],
      "metadata": {
        "id": "1940dp5DRbzE"
      }
    },
    {
      "cell_type": "code",
      "source": [
        "def L1(points):\n",
        "    # CODE HERE \n",
        "\n",
        "    l = pd.DataFrame(0, index=points.index, columns=points.index)    \n",
        "\n",
        "    sum = 0\n",
        "    for i in l:\n",
        "      for j in i:\n",
        "        l\n",
        "\n",
        "    return l\n",
        " L1(points)"
      ],
      "metadata": {
        "id": "h1TrYjDoIYG2"
      },
      "execution_count": null,
      "outputs": []
    },
    {
      "cell_type": "markdown",
      "source": [
        "a) Izračunati L2 normu: \n",
        "\n",
        "Očekivan izlaz:\n",
        "\n",
        "|$L_2$|p1| p2|p3|p4|\n",
        "--- | --- | ---| ---|---|\n",
        "|**p1**|0.0|2.828|3.162|5.099|\n",
        "|**p2**|2.828|0.0|1.414|3.162|\n",
        "|**p3**|3.162|1.414|0.0|2.0|\n",
        "|**p4**|5.099|3.162|2.0|0.0|"
      ],
      "metadata": {
        "id": "w55gT2GzSr0Q"
      }
    },
    {
      "cell_type": "code",
      "source": [
        "def L2(points):\n",
        "    # CODE HERE\n",
        "    pass\n",
        "L2(points)"
      ],
      "metadata": {
        "id": "F49EIQhyK2u5"
      },
      "execution_count": null,
      "outputs": []
    },
    {
      "cell_type": "markdown",
      "source": [
        "a) Izračunati Lmax normu: \n",
        "\n",
        "Očekivan izlaz:\n",
        "\n",
        "|$L_max$|p1| p2|p3|p4|\n",
        "--- | --- | ---| ---|---|\n",
        "|**p1**|0|2|3|5|\n",
        "|**p2**|2|0|1|3|\n",
        "|**p3**|3|1|0|2|\n",
        "|**p4**|5|3|2|0|"
      ],
      "metadata": {
        "id": "s2YkMcnXTcg0"
      }
    },
    {
      "cell_type": "code",
      "source": [
        "def Lmax(points):\n",
        "  # CODE HERE\n",
        "  pass\n",
        "Lmax(points)"
      ],
      "metadata": {
        "id": "GkOdSzlVLnv9"
      },
      "execution_count": null,
      "outputs": []
    },
    {
      "cell_type": "markdown",
      "source": [
        "## Normalizacija"
      ],
      "metadata": {
        "id": "IW-zmJrt03xo"
      }
    },
    {
      "cell_type": "code",
      "source": [
        "def normalization(x):\n",
        "    # CODE HERE\n",
        "    pass"
      ],
      "metadata": {
        "id": "qAVQcYkk1QCr"
      },
      "execution_count": null,
      "outputs": []
    },
    {
      "cell_type": "code",
      "source": [
        "from sklearn.preprocessing import MinMaxScaler"
      ],
      "metadata": {
        "id": "WUBINBJQ1QZo"
      },
      "execution_count": null,
      "outputs": []
    },
    {
      "cell_type": "code",
      "source": [
        "x = pd.DataFrame([[1, 200, 3], [200, 40, 200]])\n",
        "scaler = MinMaxScaler()\n",
        "x = scaler.fit_transform(x)\n",
        "x"
      ],
      "metadata": {
        "colab": {
          "base_uri": "https://localhost:8080/"
        },
        "id": "WvxJzNsK1wgI",
        "outputId": "76ab0819-2d7a-4a16-c167-143e0a2c1372"
      },
      "execution_count": null,
      "outputs": [
        {
          "output_type": "execute_result",
          "data": {
            "text/plain": [
              "array([[0., 1., 0.],\n",
              "       [1., 0., 1.]])"
            ]
          },
          "metadata": {},
          "execution_count": 24
        }
      ]
    },
    {
      "cell_type": "markdown",
      "source": [
        "## Standardizacija\n",
        "https://escholarship.org/content/qt89k2w1km/qt89k2w1km.pdf"
      ],
      "metadata": {
        "id": "fbaUV2__08In"
      }
    },
    {
      "cell_type": "code",
      "source": [],
      "metadata": {
        "id": "qfvwgQMM6mCb"
      },
      "execution_count": null,
      "outputs": []
    }
  ]
}